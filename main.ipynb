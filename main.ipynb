{
  "cells": [
    {
      "cell_type": "markdown",
      "metadata": {
        "id": "ix3gzyvnFdvw"
      },
      "source": [
        "# **Loading**"
      ]
    },
    {
      "cell_type": "code",
      "execution_count": 2,
      "metadata": {
        "id": "CajFigsV5eY3"
      },
      "outputs": [],
      "source": [
        "import joblib\n",
        "import numpy as np\n",
        "import pandas as pd\n",
        "import matplotlib.pyplot as plt\n",
        "import seaborn as sns\n",
        "from sklearn.preprocessing import RobustScaler, StandardScaler, MaxAbsScaler, MinMaxScaler, OneHotEncoder, OrdinalEncoder\n",
        "from sklearn.model_selection import KFold, GridSearchCV\n",
        "\n",
        "from dataset.load import load_df\n",
        "from utils import evaluate\n",
        "\n",
        "from sklearn.tree import DecisionTreeRegressor\n",
        "from sklearn.ensemble import BaggingRegressor, RandomForestRegressor, AdaBoostRegressor, GradientBoostingRegressor\n",
        "from sklearn.model_selection import cross_validate\n",
        "\n",
        "from sklearn.pipeline import Pipeline\n",
        "from sklearn.compose import ColumnTransformer"
      ]
    },
    {
      "cell_type": "code",
      "execution_count": 3,
      "metadata": {
        "id": "7vLznCmE5eY6"
      },
      "outputs": [],
      "source": [
        "scoring = [\"neg_root_mean_squared_error\",  \n",
        "            \"neg_mean_absolute_error\", \"r2\"]"
      ]
    },
    {
      "cell_type": "code",
      "execution_count": 4,
      "metadata": {
        "colab": {
          "base_uri": "https://localhost:8080/",
          "height": 391
        },
        "id": "kwcqhxzP5eY7",
        "outputId": "207ad75e-ea58-4658-a287-88cfccf5b2a2"
      },
      "outputs": [
        {
          "name": "stdout",
          "output_type": "stream",
          "text": [
            "Dataframe shape: (21283, 50)\n"
          ]
        },
        {
          "data": {
            "text/html": [
              "<div>\n",
              "<style scoped>\n",
              "    .dataframe tbody tr th:only-of-type {\n",
              "        vertical-align: middle;\n",
              "    }\n",
              "\n",
              "    .dataframe tbody tr th {\n",
              "        vertical-align: top;\n",
              "    }\n",
              "\n",
              "    .dataframe thead th {\n",
              "        text-align: right;\n",
              "    }\n",
              "</style>\n",
              "<table border=\"1\" class=\"dataframe\">\n",
              "  <thead>\n",
              "    <tr style=\"text-align: right;\">\n",
              "      <th></th>\n",
              "      <th>RemoteWork</th>\n",
              "      <th>EdLevel</th>\n",
              "      <th>YearsCodePro</th>\n",
              "      <th>Country</th>\n",
              "      <th>Age</th>\n",
              "      <th>Salary</th>\n",
              "      <th>Developer, full-stack</th>\n",
              "      <th>Developer, back-end</th>\n",
              "      <th>Developer, front-end</th>\n",
              "      <th>DevOps specialist</th>\n",
              "      <th>...</th>\n",
              "      <th>Microsoft Azure</th>\n",
              "      <th>Google Cloud</th>\n",
              "      <th>Firebase</th>\n",
              "      <th>Heroku</th>\n",
              "      <th>DigitalOcean</th>\n",
              "      <th>Docker</th>\n",
              "      <th>npm</th>\n",
              "      <th>Homebrew</th>\n",
              "      <th>Yarn</th>\n",
              "      <th>Kubernetes</th>\n",
              "    </tr>\n",
              "  </thead>\n",
              "  <tbody>\n",
              "    <tr>\n",
              "      <th>10</th>\n",
              "      <td>Hybrid (some remote, some in-person)</td>\n",
              "      <td>Bachelor’s degree</td>\n",
              "      <td>2.0</td>\n",
              "      <td>United Kingdom of Great Britain and Northern I...</td>\n",
              "      <td>18-24 years old</td>\n",
              "      <td>60307.0</td>\n",
              "      <td>1.0</td>\n",
              "      <td>1.0</td>\n",
              "      <td>0.0</td>\n",
              "      <td>0.0</td>\n",
              "      <td>...</td>\n",
              "      <td>1.0</td>\n",
              "      <td>0.0</td>\n",
              "      <td>0.0</td>\n",
              "      <td>0.0</td>\n",
              "      <td>0.0</td>\n",
              "      <td>1.0</td>\n",
              "      <td>1.0</td>\n",
              "      <td>0.0</td>\n",
              "      <td>0.0</td>\n",
              "      <td>0.0</td>\n",
              "    </tr>\n",
              "    <tr>\n",
              "      <th>12</th>\n",
              "      <td>Hybrid (some remote, some in-person)</td>\n",
              "      <td>Bachelor’s degree</td>\n",
              "      <td>5.0</td>\n",
              "      <td>United States of America</td>\n",
              "      <td>25-34 years old</td>\n",
              "      <td>65000.0</td>\n",
              "      <td>1.0</td>\n",
              "      <td>0.0</td>\n",
              "      <td>0.0</td>\n",
              "      <td>0.0</td>\n",
              "      <td>...</td>\n",
              "      <td>0.0</td>\n",
              "      <td>0.0</td>\n",
              "      <td>0.0</td>\n",
              "      <td>0.0</td>\n",
              "      <td>0.0</td>\n",
              "      <td>1.0</td>\n",
              "      <td>0.0</td>\n",
              "      <td>0.0</td>\n",
              "      <td>0.0</td>\n",
              "      <td>0.0</td>\n",
              "    </tr>\n",
              "  </tbody>\n",
              "</table>\n",
              "<p>2 rows × 50 columns</p>\n",
              "</div>"
            ],
            "text/plain": [
              "                              RemoteWork            EdLevel  YearsCodePro  \\\n",
              "10  Hybrid (some remote, some in-person)  Bachelor’s degree           2.0   \n",
              "12  Hybrid (some remote, some in-person)  Bachelor’s degree           5.0   \n",
              "\n",
              "                                              Country              Age  \\\n",
              "10  United Kingdom of Great Britain and Northern I...  18-24 years old   \n",
              "12                           United States of America  25-34 years old   \n",
              "\n",
              "     Salary  Developer, full-stack  Developer, back-end  Developer, front-end  \\\n",
              "10  60307.0                    1.0                  1.0                   0.0   \n",
              "12  65000.0                    1.0                  0.0                   0.0   \n",
              "\n",
              "    DevOps specialist  ...  Microsoft Azure  Google Cloud  Firebase  Heroku  \\\n",
              "10                0.0  ...              1.0           0.0       0.0     0.0   \n",
              "12                0.0  ...              0.0           0.0       0.0     0.0   \n",
              "\n",
              "    DigitalOcean  Docker  npm  Homebrew  Yarn  Kubernetes  \n",
              "10           0.0     1.0  1.0       0.0   0.0         0.0  \n",
              "12           0.0     1.0  0.0       0.0   0.0         0.0  \n",
              "\n",
              "[2 rows x 50 columns]"
            ]
          },
          "execution_count": 4,
          "metadata": {},
          "output_type": "execute_result"
        }
      ],
      "source": [
        "df = load_df()\n",
        "print(f\"Dataframe shape: {df.shape}\")\n",
        "df.head(2)"
      ]
    },
    {
      "cell_type": "markdown",
      "metadata": {
        "id": "mc96tSBE5eY7"
      },
      "source": [
        "# **Get Train-Test split**"
      ]
    },
    {
      "cell_type": "code",
      "execution_count": 5,
      "metadata": {
        "colab": {
          "base_uri": "https://localhost:8080/"
        },
        "id": "Pithkpr35eY8",
        "outputId": "6d5f38f2-ee29-4775-b525-f0bedcad5100"
      },
      "outputs": [
        {
          "name": "stdout",
          "output_type": "stream",
          "text": [
            "*************************\n",
            "Train shape: (20219, 50)\n",
            "Test shape: (1064, 50)\n",
            "*************************\n",
            "X_train shape: (20219, 49)\n",
            "y_train shape: (20219,)\n",
            "X_test shape: (1064, 49)\n",
            "y_test shape: (1064,)\n",
            "*************************\n"
          ]
        }
      ],
      "source": [
        "print(\"*\" * 25)\n",
        "train = df.sample(frac=0.95, random_state=42)\n",
        "test = df.drop(train.index)\n",
        "\n",
        "print(f\"Train shape: {train.shape}\")\n",
        "print(f\"Test shape: {test.shape}\")\n",
        "print(\"*\" * 25)\n",
        "\n",
        "X_train = train.drop([\"Salary\"], axis=1)\n",
        "y_train = train[\"Salary\"].values\n",
        "X_test= test.drop([\"Salary\"], axis=1)\n",
        "y_test = test[\"Salary\"].values\n",
        "\n",
        "print(f\"X_train shape: {X_train.shape}\")\n",
        "print(f\"y_train shape: {y_train.shape}\")\n",
        "print(f\"X_test shape: {X_test.shape}\")\n",
        "print(f\"y_test shape: {y_test.shape}\")\n",
        "print(\"*\" * 25)"
      ]
    },
    {
      "attachments": {},
      "cell_type": "markdown",
      "metadata": {},
      "source": [
        "# **Model Selection**"
      ]
    },
    {
      "attachments": {},
      "cell_type": "markdown",
      "metadata": {},
      "source": [
        "## **Decision Tree**"
      ]
    },
    {
      "cell_type": "code",
      "execution_count": 6,
      "metadata": {},
      "outputs": [
        {
          "name": "stdout",
          "output_type": "stream",
          "text": [
            "RMSE: mean: 56206.58084198328 | [56066.67391908 56116.62802433 56057.18684472 57332.28843116\n",
            " 55460.12699063]\n",
            "MAE: mean: 38946.41927001109 | [38758.22230465 39316.02373887 38820.72626113 39709.48442136\n",
            " 38127.63962404]\n",
            "R2-score: mean: 0.14402612328740422 | [0.12593157 0.15708443 0.15344013 0.12456902 0.15910547]\n",
            "*********************************************************************\n",
            "\n"
          ]
        }
      ],
      "source": [
        "transform = ColumnTransformer([\n",
        "    (\"label\", OrdinalEncoder(), [\"EdLevel\", \"Country\", \"Age\"]),\n",
        "    (\"onehot\", OneHotEncoder(sparse=False, handle_unknown=\"ignore\"), [\"RemoteWork\"]),\n",
        "    (\"scaler\", MaxAbsScaler(), [\"YearsCodePro\"])\n",
        "], remainder=\"passthrough\")\n",
        "\n",
        "model = DecisionTreeRegressor(random_state=42)\n",
        "\n",
        "pipe = Pipeline([\n",
        "    (\"preprocess\", transform),\n",
        "    (\"model\", model)\n",
        "])\n",
        "\n",
        "kfold = KFold(n_splits=5, shuffle=True, random_state=42)\n",
        "\n",
        "scores = cross_validate(pipe, X_train, y_train, cv=kfold, scoring=scoring, n_jobs=2)\n",
        "print(f\"RMSE: mean: {-1 * np.mean(scores['test_neg_root_mean_squared_error'])} | {-1 * scores['test_neg_root_mean_squared_error']}\")\n",
        "print(f\"MAE: mean: {-1 * np.mean(scores['test_neg_mean_absolute_error'])} | {-1 * scores['test_neg_mean_absolute_error']}\")\n",
        "print(f\"R2-score: mean: {np.mean(scores['test_r2'])} | {scores['test_r2']}\")\n",
        "print(\"*\" * 69)\n",
        "print()"
      ]
    },
    {
      "attachments": {},
      "cell_type": "markdown",
      "metadata": {
        "id": "OwTsaKc_5eY9"
      },
      "source": [
        "## **AdaBoost**"
      ]
    },
    {
      "cell_type": "code",
      "execution_count": null,
      "metadata": {
        "id": "9_nqY1Ry5eY9",
        "outputId": "5f48430f-beb8-4f99-f0a0-36ad26e1e1ac"
      },
      "outputs": [
        {
          "name": "stdout",
          "output_type": "stream",
          "text": [
            "RMSE: mean: 38764.97440457434 | [37585.35695962 38924.38736436 38630.01312895 40356.03589556\n",
            " 38329.07867438]\n",
            "MAE: mean: 26193.787291398443 | [25466.27744807 26485.87362541 26011.96844664 27022.31706053\n",
            " 25982.49987633]\n",
            "R2-score: mean: 0.5928480966720853 | [0.60719844 0.5944499  0.59798265 0.56624913 0.59836036]\n",
            "*********************************************************************\n",
            "\n"
          ]
        }
      ],
      "source": [
        "transform = ColumnTransformer([\n",
        "    (\"label\", OrdinalEncoder(), [\"EdLevel\", \"Country\", \"Age\"]),\n",
        "    (\"onehot\", OneHotEncoder(sparse=False, handle_unknown=\"ignore\"), [\"RemoteWork\"]),\n",
        "    (\"scaler\", MaxAbsScaler(), [\"YearsCodePro\"])\n",
        "], remainder=\"passthrough\")\n",
        "\n",
        "model = AdaBoostRegressor(base_estimator=DecisionTreeRegressor(), n_estimators=200, random_state=42)\n",
        "\n",
        "pipe = Pipeline([\n",
        "    (\"preprocess\", transform),\n",
        "    (\"model\", model)\n",
        "])\n",
        "\n",
        "kfold = KFold(n_splits=5, shuffle=True, random_state=42)\n",
        "\n",
        "scores = cross_validate(pipe, X_train, y_train, cv=kfold, scoring=scoring, n_jobs=2)\n",
        "print(f\"RMSE: mean: {-1 * np.mean(scores['test_neg_root_mean_squared_error'])} | {-1 * scores['test_neg_root_mean_squared_error']}\")\n",
        "print(f\"MAE: mean: {-1 * np.mean(scores['test_neg_mean_absolute_error'])} | {-1 * scores['test_neg_mean_absolute_error']}\")\n",
        "print(f\"R2-score: mean: {np.mean(scores['test_r2'])} | {scores['test_r2']}\")\n",
        "print(\"*\" * 69)\n",
        "print()"
      ]
    },
    {
      "attachments": {},
      "cell_type": "markdown",
      "metadata": {
        "id": "TgZcg5095eY_"
      },
      "source": [
        "## **Bagging**"
      ]
    },
    {
      "cell_type": "code",
      "execution_count": 7,
      "metadata": {
        "id": "sveCJAjF5eY_",
        "outputId": "6aa846fc-1dcd-48f8-fae0-8c978b64bc6a"
      },
      "outputs": [
        {
          "name": "stdout",
          "output_type": "stream",
          "text": [
            "RMSE: mean: 38911.11883075573 | [38070.85579488 39099.72393929 38477.89847245 40414.39031969\n",
            " 38492.72562747]\n",
            "MAE: mean: 27417.893751010077 | [26963.84926682 27849.56810872 27012.6656693  28108.0319531\n",
            " 27155.35375711]\n",
            "R2-score: mean: 0.5897665701292938 | [0.59698508 0.59078803 0.60114249 0.56499383 0.59492342]\n",
            "*********************************************************************\n",
            "\n"
          ]
        }
      ],
      "source": [
        "transform = ColumnTransformer([\n",
        "    (\"label\", OrdinalEncoder(), [\"EdLevel\", \"Country\", \"Age\"]),\n",
        "    (\"onehot\", OneHotEncoder(sparse=False, handle_unknown=\"ignore\"), [\"RemoteWork\"]),\n",
        "    (\"scaler\", MaxAbsScaler(), [\"YearsCodePro\"])\n",
        "], remainder=\"passthrough\")\n",
        "\n",
        "model = BaggingRegressor(base_estimator=DecisionTreeRegressor(), n_estimators=200, n_jobs=2, random_state=42)\n",
        "\n",
        "pipe = Pipeline([\n",
        "    (\"preprocess\", transform),\n",
        "    (\"model\", model)\n",
        "])\n",
        "\n",
        "kfold = KFold(n_splits=5, shuffle=True, random_state=42)\n",
        "\n",
        "scores = cross_validate(pipe, X_train, y_train, cv=kfold, scoring=scoring, n_jobs=2)\n",
        "print(f\"RMSE: mean: {-1 * np.mean(scores['test_neg_root_mean_squared_error'])} | {-1 * scores['test_neg_root_mean_squared_error']}\")\n",
        "print(f\"MAE: mean: {-1 * np.mean(scores['test_neg_mean_absolute_error'])} | {-1 * scores['test_neg_mean_absolute_error']}\")\n",
        "print(f\"R2-score: mean: {np.mean(scores['test_r2'])} | {scores['test_r2']}\")\n",
        "print(\"*\" * 69)\n",
        "print()"
      ]
    },
    {
      "attachments": {},
      "cell_type": "markdown",
      "metadata": {
        "id": "TTrvVVnX5eZA"
      },
      "source": [
        "## **RandomForest**"
      ]
    },
    {
      "cell_type": "code",
      "execution_count": null,
      "metadata": {
        "id": "VAHxb5wb5eZA",
        "outputId": "90e97e18-b0eb-4217-dca1-dc63c989282c"
      },
      "outputs": [
        {
          "name": "stdout",
          "output_type": "stream",
          "text": [
            "RMSE: mean: 38917.28320578492 | [38091.66786902 39123.25578711 38459.56648893 40363.86931061\n",
            " 38548.05657325]\n",
            "MAE: mean: 27427.936402339943 | [26987.93126113 27882.32719873 27010.836114   28074.1387908\n",
            " 27184.44864704]\n",
            "R2-score: mean: 0.5896401744787039 | [0.59654433 0.59029532 0.60152246 0.56608073 0.59375804]\n",
            "*********************************************************************\n",
            "\n"
          ]
        }
      ],
      "source": [
        "transform = ColumnTransformer([\n",
        "    (\"label\", OrdinalEncoder(), [\"EdLevel\", \"Country\", \"Age\"]),\n",
        "    (\"onehot\", OneHotEncoder(sparse=False, handle_unknown=\"ignore\"), [\"RemoteWork\"]),\n",
        "    (\"scaler\", MaxAbsScaler(), [\"YearsCodePro\"])\n",
        "], remainder=\"passthrough\")\n",
        "\n",
        "model = RandomForestRegressor(n_estimators=200, n_jobs=2, random_state=42)\n",
        "\n",
        "pipe = Pipeline([\n",
        "    (\"preprocess\", transform),\n",
        "    (\"model\", model)\n",
        "])\n",
        "\n",
        "kfold = KFold(n_splits=5, shuffle=True, random_state=42)\n",
        "\n",
        "scores = cross_validate(pipe, X_train, y_train, cv=kfold, scoring=scoring, n_jobs=2)\n",
        "print(f\"RMSE: mean: {-1 * np.mean(scores['test_neg_root_mean_squared_error'])} | {-1 * scores['test_neg_root_mean_squared_error']}\")\n",
        "print(f\"MAE: mean: {-1 * np.mean(scores['test_neg_mean_absolute_error'])} | {-1 * scores['test_neg_mean_absolute_error']}\")\n",
        "print(f\"R2-score: mean: {np.mean(scores['test_r2'])} | {scores['test_r2']}\")\n",
        "print(\"*\" * 69)\n",
        "print()"
      ]
    },
    {
      "attachments": {},
      "cell_type": "markdown",
      "metadata": {
        "id": "cbApW7W35eZB"
      },
      "source": [
        "## **Gradient Boost**"
      ]
    },
    {
      "cell_type": "code",
      "execution_count": null,
      "metadata": {
        "id": "GGjZjDNA5eZB",
        "outputId": "450e1d5d-2d8b-4ab9-ced1-034d4c17ea57"
      },
      "outputs": [
        {
          "name": "stdout",
          "output_type": "stream",
          "text": [
            "RMSE: mean: 37730.7612213689 | [36736.50299898 37845.68564879 37482.05424689 39532.57814741\n",
            " 37056.98506477]\n",
            "MAE: mean: 26009.150920067732 | [25515.908245   26423.78759751 25698.72456364 26827.23175549\n",
            " 25580.10243871]\n",
            "R2-score: mean: 0.614245085231671 | [0.62474069 0.61661625 0.62152095 0.58376976 0.62457778]\n",
            "*********************************************************************\n",
            "\n"
          ]
        }
      ],
      "source": [
        "transform = ColumnTransformer([\n",
        "    (\"label\", OrdinalEncoder(), [\"EdLevel\", \"Country\", \"Age\"]),\n",
        "    (\"onehot\", OneHotEncoder(sparse=False, handle_unknown=\"ignore\"), [\"RemoteWork\"]),\n",
        "    (\"scaler\", MaxAbsScaler(), [\"YearsCodePro\"])\n",
        "], remainder=\"passthrough\")\n",
        "\n",
        "model = GradientBoostingRegressor(n_estimators=200)\n",
        "\n",
        "pipe = Pipeline([\n",
        "    (\"preprocess\", transform),\n",
        "    (\"model\", model)\n",
        "])\n",
        "\n",
        "kfold = KFold(n_splits=5, shuffle=True, random_state=42)\n",
        "\n",
        "scores = cross_validate(pipe, X_train, y_train, cv=kfold, scoring=scoring, n_jobs=2)\n",
        "print(f\"RMSE: mean: {-1 * np.mean(scores['test_neg_root_mean_squared_error'])} | {-1 * scores['test_neg_root_mean_squared_error']}\")\n",
        "print(f\"MAE: mean: {-1 * np.mean(scores['test_neg_mean_absolute_error'])} | {-1 * scores['test_neg_mean_absolute_error']}\")\n",
        "print(f\"R2-score: mean: {np.mean(scores['test_r2'])} | {scores['test_r2']}\")\n",
        "print(\"*\" * 69)\n",
        "print()"
      ]
    },
    {
      "attachments": {},
      "cell_type": "markdown",
      "metadata": {},
      "source": [
        "# **Hyperparameter Tuning**"
      ]
    },
    {
      "cell_type": "code",
      "execution_count": 10,
      "metadata": {
        "colab": {
          "base_uri": "https://localhost:8080/"
        },
        "id": "Kmx33Ws7HOhr",
        "outputId": "579fd196-bf34-4dfa-e498-5363b5c6d3cf"
      },
      "outputs": [
        {
          "name": "stdout",
          "output_type": "stream",
          "text": [
            "Fitting 3 folds for each of 210 candidates, totalling 630 fits\n"
          ]
        },
        {
          "name": "stderr",
          "output_type": "stream",
          "text": [
            "/opt/homebrew/Caskroom/miniforge/base/lib/python3.10/site-packages/sklearn/model_selection/_validation.py:378: FitFailedWarning: \n",
            "210 fits failed out of a total of 630.\n",
            "The score on these train-test partitions for these parameters will be set to nan.\n",
            "If these failures are not expected, you can try to debug them by setting error_score='raise'.\n",
            "\n",
            "Below are more details about the failures:\n",
            "--------------------------------------------------------------------------------\n",
            "210 fits failed with the following error:\n",
            "Traceback (most recent call last):\n",
            "  File \"/opt/homebrew/Caskroom/miniforge/base/lib/python3.10/site-packages/sklearn/model_selection/_validation.py\", line 686, in _fit_and_score\n",
            "    estimator.fit(X_train, y_train, **fit_params)\n",
            "  File \"/opt/homebrew/Caskroom/miniforge/base/lib/python3.10/site-packages/sklearn/ensemble/_gb.py\", line 577, in fit\n",
            "    self._check_params()\n",
            "  File \"/opt/homebrew/Caskroom/miniforge/base/lib/python3.10/site-packages/sklearn/ensemble/_gb.py\", line 290, in _check_params\n",
            "    raise ValueError(f\"Loss {self.loss!r} not supported. \")\n",
            "ValueError: Loss 'squared_error, absolute_error' not supported. \n",
            "\n",
            "  warnings.warn(some_fits_failed_message, FitFailedWarning)\n",
            "/opt/homebrew/Caskroom/miniforge/base/lib/python3.10/site-packages/sklearn/model_selection/_search.py:953: UserWarning: One or more of the test scores are non-finite: [            nan             nan             nan             nan\n",
            "             nan             nan             nan -43044.44558577\n",
            " -42249.27524618 -41715.17911282 -41327.12591165 -41037.92811781\n",
            " -40776.55492073 -40542.08345281 -71051.38102331 -68527.09619064\n",
            " -66748.20385014 -65557.24830999 -64759.8432608  -64181.275122\n",
            " -63732.13181545             nan             nan             nan\n",
            "             nan             nan             nan             nan\n",
            " -37926.09117243 -37802.66948311 -37749.72629555 -37724.34072616\n",
            " -37709.92473173 -37711.25960801 -37716.4668077  -58838.78228299\n",
            " -58624.75795285 -58504.03873505 -58411.2166     -58388.96227914\n",
            " -58389.14383405 -58384.05200647             nan             nan\n",
            "             nan             nan             nan             nan\n",
            "             nan -37762.20354573 -37763.36147349 -37768.94243393\n",
            " -37775.19501042 -37782.62123437 -37801.92673469 -37826.30704383\n",
            " -58430.6230659  -58397.94234424 -58397.3628717  -58397.33261162\n",
            " -58397.33138675 -58397.33143121 -58397.33134116             nan\n",
            "             nan             nan             nan             nan\n",
            "             nan             nan -37814.53696257 -37869.15890046\n",
            " -37899.82633095 -37947.24517839 -38000.21490768 -38042.17914325\n",
            " -38088.65847627 -58657.1594506  -58657.38545454 -58657.18026485\n",
            " -58657.18099554 -58657.17492979 -58657.26990841 -58657.33410662\n",
            "             nan             nan             nan             nan\n",
            "             nan             nan             nan -38006.12886439\n",
            " -38060.66002948 -38148.64873392 -38213.01010064 -38282.65212147\n",
            " -38319.81426066 -38357.30443736 -58698.32445928 -58698.20075634\n",
            " -58698.15434448 -58698.14223571 -58698.14153022 -58698.16025768\n",
            " -58698.1599298              nan             nan             nan\n",
            "             nan             nan             nan             nan\n",
            " -43044.44558577 -42249.27524618 -41715.17911282 -41327.12591165\n",
            " -41037.92811781 -40776.55492073 -40542.08345281 -71051.38102331\n",
            " -68527.09619064 -66748.20385014 -65557.24830999 -64759.8432608\n",
            " -64181.15091555 -63731.77914108             nan             nan\n",
            "             nan             nan             nan             nan\n",
            "             nan -37926.09117243 -37802.66948311 -37749.72629555\n",
            " -37724.34072616 -37709.92473173 -37711.25960801 -37716.4668077\n",
            " -58827.30692253 -58611.73031201 -58477.09943014 -58436.56684686\n",
            " -58426.35515494 -58424.23409    -58424.93601852             nan\n",
            "             nan             nan             nan             nan\n",
            "             nan             nan -37762.20354573 -37763.36147349\n",
            " -37768.94243393 -37775.19501042 -37782.62123437 -37801.92673469\n",
            " -37826.30704383 -58564.16890655 -58565.07862606 -58565.48888859\n",
            " -58565.63656391 -58565.75701828 -58565.84107197 -58565.86954333\n",
            "             nan             nan             nan             nan\n",
            "             nan             nan             nan -37816.86321832\n",
            " -37871.47868566 -37902.13448344 -37949.50321609 -38002.50289751\n",
            " -38044.49966951 -38091.05105008 -58684.2353656  -58684.92345309\n",
            " -58685.71751225 -58685.7707082  -58685.81840598 -58685.82592195\n",
            " -58685.83440436             nan             nan             nan\n",
            "             nan             nan             nan             nan\n",
            " -38006.12886439 -38060.66002948 -38148.64873392 -38213.01010064\n",
            " -38282.65212147 -38319.81426066 -38357.30443736 -58715.7077547\n",
            " -58715.74968386 -58715.70027019 -58715.70486358 -58715.72484586\n",
            " -58715.75792371 -58715.78985236]\n",
            "  warnings.warn(\n",
            "/opt/homebrew/Caskroom/miniforge/base/lib/python3.10/site-packages/sklearn/model_selection/_search.py:953: UserWarning: One or more of the test scores are non-finite: [            nan             nan             nan             nan\n",
            "             nan             nan             nan -30755.18695416\n",
            " -29997.03596132 -29477.96823085 -29087.22529374 -28787.64074261\n",
            " -28507.79020003 -28257.11342282 -63558.12469106 -60822.18334095\n",
            " -58862.53123541 -57495.34176521 -56535.26846995 -55810.64540364\n",
            " -55262.84551569             nan             nan             nan\n",
            "             nan             nan             nan             nan\n",
            " -25526.60087069 -25370.29355674 -25297.36137161 -25267.0594889\n",
            " -25252.04618808 -25248.74329415 -25251.90274562 -49349.045331\n",
            " -49077.63474694 -48957.78904042 -48814.53952654 -48785.06610385\n",
            " -48784.18399349 -48778.49210628             nan             nan\n",
            "             nan             nan             nan             nan\n",
            "             nan -25288.11816336 -25259.3600126  -25250.50581994\n",
            " -25247.1429316  -25255.87100015 -25261.83064835 -25281.83309042\n",
            " -48723.8286357  -48686.10119169 -48685.6512574  -48685.55210501\n",
            " -48685.53509829 -48685.53525933 -48685.53471665             nan\n",
            "             nan             nan             nan             nan\n",
            "             nan             nan -25372.47338982 -25417.17644322\n",
            " -25444.3177938  -25480.11107345 -25516.07729688 -25544.9567166\n",
            " -25586.67301886 -48799.62444581 -48799.65215981 -48799.01491327\n",
            " -48798.97813667 -48798.95451649 -48799.05259103 -48799.11559994\n",
            "             nan             nan             nan             nan\n",
            "             nan             nan             nan -25531.4856949\n",
            " -25586.73515374 -25647.14199551 -25695.86321363 -25758.60153032\n",
            " -25810.15102445 -25837.18458294 -48895.01629209 -48894.92379201\n",
            " -48894.90439523 -48894.89697157 -48894.89652761 -48895.13570159\n",
            " -48895.13552567             nan             nan             nan\n",
            "             nan             nan             nan             nan\n",
            " -30755.18695416 -29997.03596132 -29477.96823085 -29087.22529374\n",
            " -28787.64074261 -28507.79020003 -28257.11342282 -63558.12469106\n",
            " -60822.18334095 -58862.53123541 -57495.34176521 -56535.26846995\n",
            " -55810.55680465 -55262.61357035             nan             nan\n",
            "             nan             nan             nan             nan\n",
            "             nan -25526.60087069 -25370.29355674 -25297.36137161\n",
            " -25267.0594889  -25252.04618808 -25248.74329415 -25251.90274562\n",
            " -49352.66567034 -49065.53743414 -48901.27741743 -48854.69286501\n",
            " -48840.44799336 -48838.81024046 -48839.44063437             nan\n",
            "             nan             nan             nan             nan\n",
            "             nan             nan -25288.11816336 -25259.3600126\n",
            " -25250.50581994 -25247.1429316  -25255.87100015 -25261.83064835\n",
            " -25281.83309042 -48924.71692724 -48926.10436444 -48926.49886222\n",
            " -48926.72999853 -48926.90644449 -48927.00490508 -48927.04066804\n",
            "             nan             nan             nan             nan\n",
            "             nan             nan             nan -25373.38374844\n",
            " -25418.08680183 -25445.22815241 -25481.02143206 -25516.98765549\n",
            " -25545.86707521 -25587.58337747 -48822.493904   -48823.4911579\n",
            " -48824.90031564 -48824.93876058 -48825.01632023 -48825.02355909\n",
            " -48825.03835717             nan             nan             nan\n",
            "             nan             nan             nan             nan\n",
            " -25531.4856949  -25586.73515374 -25647.14199551 -25695.86321363\n",
            " -25758.60153032 -25810.15102445 -25837.18458294 -48853.50803831\n",
            " -48853.53060057 -48853.55925169 -48853.5670163  -48853.61752652\n",
            " -48853.65154738 -48853.68387233]\n",
            "  warnings.warn(\n",
            "/opt/homebrew/Caskroom/miniforge/base/lib/python3.10/site-packages/sklearn/model_selection/_search.py:953: UserWarning: One or more of the test scores are non-finite: [        nan         nan         nan         nan         nan         nan\n",
            "         nan  0.49806576  0.51643119  0.52857611  0.53730611  0.54376092\n",
            "  0.5495538   0.5547202  -0.36730421 -0.2718632  -0.20667726 -0.16399559\n",
            " -0.13585046 -0.11564103 -0.10007285         nan         nan         nan\n",
            "         nan         nan         nan         nan  0.61035711  0.61289877\n",
            "  0.61397863  0.61449787  0.6147935   0.61476892  0.6146659   0.06235858\n",
            "  0.06915246  0.07298182  0.07590621  0.07661605  0.0766091   0.0767721\n",
            "         nan         nan         nan         nan         nan         nan\n",
            "         nan  0.6137283   0.61370803  0.61358932  0.61345983  0.61330717\n",
            "  0.61290917  0.61241156  0.07529419  0.0763398   0.07635837  0.07635934\n",
            "  0.07635938  0.07635938  0.07635939         nan         nan         nan\n",
            "         nan         nan         nan         nan  0.61265976  0.61154192\n",
            "  0.61091542  0.60993518  0.608856    0.60799527  0.60704098  0.06811645\n",
            "  0.06810921  0.06811564  0.06811562  0.06811581  0.06811276  0.06811067\n",
            "         nan         nan         nan         nan         nan         nan\n",
            "         nan  0.60874034  0.60761733  0.6058085   0.60448456  0.60305046\n",
            "  0.60228055  0.60150478  0.06650869  0.06651257  0.06651402  0.0665144\n",
            "  0.06651442  0.06651383  0.06651384         nan         nan         nan\n",
            "         nan         nan         nan         nan  0.49806576  0.51643119\n",
            "  0.52857611  0.53730611  0.54376092  0.5495538   0.5547202  -0.36730421\n",
            " -0.2718632  -0.20667726 -0.16399559 -0.13585046 -0.11563668 -0.10006058\n",
            "         nan         nan         nan         nan         nan         nan\n",
            "         nan  0.61035711  0.61289877  0.61397863  0.61449787  0.6147935\n",
            "  0.61476892  0.6146659   0.06272498  0.06957052  0.07383627  0.07511221\n",
            "  0.07543305  0.0754996   0.07547751         nan         nan         nan\n",
            "         nan         nan         nan         nan  0.6137283   0.61370803\n",
            "  0.61358932  0.61345983  0.61330717  0.61290917  0.61241156  0.07102298\n",
            "  0.07099416  0.07098121  0.07097656  0.07097277  0.07097011  0.07096922\n",
            "         nan         nan         nan         nan         nan         nan\n",
            "         nan  0.61261311  0.61149533  0.61086898  0.60988977  0.60880983\n",
            "  0.60794838  0.60699254  0.0672422   0.06722031  0.06719523  0.06719354\n",
            "  0.06719204  0.0671918   0.06719153         nan         nan         nan\n",
            "         nan         nan         nan         nan  0.60874034  0.60761733\n",
            "  0.6058085   0.60448456  0.60305046  0.60228055  0.60150478  0.06604825\n",
            "  0.06604691  0.0660484   0.06604826  0.06604763  0.06604655  0.06604551]\n",
            "  warnings.warn(\n"
          ]
        },
        {
          "name": "stdout",
          "output_type": "stream",
          "text": [
            "The best params: {'criterion': 'friedman_mse', 'learning_rate': 0.1, 'loss': 'huber', 'n_estimators': 400}\n",
            "The best score: 0.6147934969813488\n"
          ]
        }
      ],
      "source": [
        "transform = ColumnTransformer([\n",
        "    (\"label\", OrdinalEncoder(), [\"EdLevel\", \"Country\", \"Age\"]),\n",
        "    (\"onehot\", OneHotEncoder(sparse=False, handle_unknown=\"ignore\"), [\"RemoteWork\"]),\n",
        "    (\"scaler\", MaxAbsScaler(), [\"YearsCodePro\"])\n",
        "], remainder=\"passthrough\")\n",
        "\n",
        "model = GradientBoostingRegressor(random_state=42)\n",
        "\n",
        "params = {\n",
        "    \"n_estimators\": [*range(200, 510, 50)],\n",
        "    \"loss\": ['squared_error'', absolute_error', 'huber', 'quantile'],\n",
        "    \"learning_rate\": [0.01, 0.1, 0.2, 0.3, 0.4],\n",
        "    \"criterion\": ['friedman_mse', 'squared_error']\n",
        "\n",
        "}\n",
        "\n",
        "grid = GridSearchCV(estimator=model, param_grid=params, scoring=scoring, n_jobs=3, verbose=1, cv=3, refit=\"r2\")\n",
        "\n",
        "pipe = Pipeline([\n",
        "    (\"preprocess\", transform),\n",
        "    (\"grid\", grid)\n",
        "])\n",
        "\n",
        "pipe.fit(X_train, y_train)\n",
        "print(f\"The best params: {pipe['grid'].best_params_}\")\n",
        "print(f\"The best score: {pipe['grid'].best_score_}\")"
      ]
    },
    {
      "attachments": {},
      "cell_type": "markdown",
      "metadata": {},
      "source": [
        "# **Train & Save Best Model**"
      ]
    },
    {
      "cell_type": "code",
      "execution_count": 11,
      "metadata": {},
      "outputs": [
        {
          "name": "stdout",
          "output_type": "stream",
          "text": [
            "                         Metrics        Values\n",
            "0  Root Mean Square Error (RMSE)  37068.786623\n",
            "1      Mean Absolute Error (MAE)  25121.021997\n",
            "2                  R2-score (R2)      0.619333\n"
          ]
        }
      ],
      "source": [
        "transform = ColumnTransformer([\n",
        "    (\"label\", OrdinalEncoder(), [\"EdLevel\", \"Country\", \"Age\"]),\n",
        "    (\"onehot\", OneHotEncoder(sparse=False, handle_unknown=\"ignore\"), [\"RemoteWork\"]),\n",
        "    (\"scaler\", MaxAbsScaler(), [\"YearsCodePro\"])\n",
        "], remainder=\"passthrough\")\n",
        "\n",
        "model = GradientBoostingRegressor(criterion='friedman_mse', \n",
        "                                learning_rate=0.1, \n",
        "                                loss='huber', \n",
        "                                n_estimators= 400)\n",
        "\n",
        "pipe = Pipeline([\n",
        "    (\"preprocess\", transform),\n",
        "    (\"model\", model)\n",
        "])\n",
        "\n",
        "pipe.fit(X_train, y_train)\n",
        "y_pred = pipe.predict(X_test)\n",
        "evaluate(y_test, y_pred)"
      ]
    },
    {
      "cell_type": "code",
      "execution_count": 12,
      "metadata": {},
      "outputs": [
        {
          "data": {
            "text/plain": [
              "['best_model.joblib']"
            ]
          },
          "execution_count": 12,
          "metadata": {},
          "output_type": "execute_result"
        }
      ],
      "source": [
        "joblib.dump(pipe, \"best_model.joblib\")"
      ]
    }
  ],
  "metadata": {
    "colab": {
      "collapsed_sections": [
        "ix3gzyvnFdvw",
        "mc96tSBE5eY7",
        "OwTsaKc_5eY9"
      ],
      "provenance": []
    },
    "kernelspec": {
      "display_name": "base",
      "language": "python",
      "name": "python3"
    },
    "language_info": {
      "codemirror_mode": {
        "name": "ipython",
        "version": 3
      },
      "file_extension": ".py",
      "mimetype": "text/x-python",
      "name": "python",
      "nbconvert_exporter": "python",
      "pygments_lexer": "ipython3",
      "version": "3.10.6 | packaged by conda-forge | (main, Aug 22 2022, 20:41:22) [Clang 13.0.1 ]"
    },
    "orig_nbformat": 4,
    "vscode": {
      "interpreter": {
        "hash": "c6e4e9f98eb68ad3b7c296f83d20e6de614cb42e90992a65aa266555a3137d0d"
      }
    }
  },
  "nbformat": 4,
  "nbformat_minor": 0
}
