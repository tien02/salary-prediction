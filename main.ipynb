{
 "cells": [
  {
   "cell_type": "code",
   "execution_count": 1,
   "metadata": {},
   "outputs": [],
   "source": [
    "import numpy as np\n",
    "import pandas as pd\n",
    "import matplotlib.pyplot as plt\n",
    "import seaborn as sns\n",
    "from sklearn.preprocessing import RobustScaler, StandardScaler, MaxAbsScaler, MinMaxScaler, OneHotEncoder, OrdinalEncoder\n",
    "from sklearn.model_selection import KFold, GridSearchCV\n",
    "\n",
    "from dataset.load import load_df\n",
    "from utils import evaluate\n",
    "\n",
    "from sklearn.tree import DecisionTreeRegressor\n",
    "from sklearn.ensemble import BaggingRegressor, RandomForestRegressor, AdaBoostRegressor, GradientBoostingRegressor\n",
    "from sklearn.model_selection import cross_validate\n",
    "\n",
    "from sklearn.pipeline import Pipeline\n",
    "from sklearn.compose import ColumnTransformer"
   ]
  },
  {
   "cell_type": "code",
   "execution_count": 2,
   "metadata": {},
   "outputs": [],
   "source": [
    "scoring = [\"neg_root_mean_squared_error\",  \n",
    "            \"neg_mean_absolute_error\", \"r2\"]"
   ]
  },
  {
   "cell_type": "code",
   "execution_count": 3,
   "metadata": {},
   "outputs": [
    {
     "name": "stdout",
     "output_type": "stream",
     "text": [
      "Dataframe shape: (21283, 50)\n"
     ]
    },
    {
     "data": {
      "text/html": [
       "<div>\n",
       "<style scoped>\n",
       "    .dataframe tbody tr th:only-of-type {\n",
       "        vertical-align: middle;\n",
       "    }\n",
       "\n",
       "    .dataframe tbody tr th {\n",
       "        vertical-align: top;\n",
       "    }\n",
       "\n",
       "    .dataframe thead th {\n",
       "        text-align: right;\n",
       "    }\n",
       "</style>\n",
       "<table border=\"1\" class=\"dataframe\">\n",
       "  <thead>\n",
       "    <tr style=\"text-align: right;\">\n",
       "      <th></th>\n",
       "      <th>RemoteWork</th>\n",
       "      <th>EdLevel</th>\n",
       "      <th>YearsCodePro</th>\n",
       "      <th>Country</th>\n",
       "      <th>Age</th>\n",
       "      <th>Salary</th>\n",
       "      <th>Developer, full-stack</th>\n",
       "      <th>Developer, back-end</th>\n",
       "      <th>Developer, front-end</th>\n",
       "      <th>DevOps specialist</th>\n",
       "      <th>...</th>\n",
       "      <th>Microsoft Azure</th>\n",
       "      <th>Google Cloud</th>\n",
       "      <th>Firebase</th>\n",
       "      <th>Heroku</th>\n",
       "      <th>DigitalOcean</th>\n",
       "      <th>Docker</th>\n",
       "      <th>npm</th>\n",
       "      <th>Homebrew</th>\n",
       "      <th>Yarn</th>\n",
       "      <th>Kubernetes</th>\n",
       "    </tr>\n",
       "  </thead>\n",
       "  <tbody>\n",
       "    <tr>\n",
       "      <th>10</th>\n",
       "      <td>Hybrid (some remote, some in-person)</td>\n",
       "      <td>Bachelor’s degree</td>\n",
       "      <td>2.0</td>\n",
       "      <td>United Kingdom of Great Britain and Northern I...</td>\n",
       "      <td>18-24 years old</td>\n",
       "      <td>60307.0</td>\n",
       "      <td>1.0</td>\n",
       "      <td>1.0</td>\n",
       "      <td>0.0</td>\n",
       "      <td>0.0</td>\n",
       "      <td>...</td>\n",
       "      <td>1.0</td>\n",
       "      <td>0.0</td>\n",
       "      <td>0.0</td>\n",
       "      <td>0.0</td>\n",
       "      <td>0.0</td>\n",
       "      <td>1.0</td>\n",
       "      <td>1.0</td>\n",
       "      <td>0.0</td>\n",
       "      <td>0.0</td>\n",
       "      <td>0.0</td>\n",
       "    </tr>\n",
       "    <tr>\n",
       "      <th>12</th>\n",
       "      <td>Hybrid (some remote, some in-person)</td>\n",
       "      <td>Bachelor’s degree</td>\n",
       "      <td>5.0</td>\n",
       "      <td>United States of America</td>\n",
       "      <td>25-34 years old</td>\n",
       "      <td>65000.0</td>\n",
       "      <td>1.0</td>\n",
       "      <td>0.0</td>\n",
       "      <td>0.0</td>\n",
       "      <td>0.0</td>\n",
       "      <td>...</td>\n",
       "      <td>0.0</td>\n",
       "      <td>0.0</td>\n",
       "      <td>0.0</td>\n",
       "      <td>0.0</td>\n",
       "      <td>0.0</td>\n",
       "      <td>1.0</td>\n",
       "      <td>0.0</td>\n",
       "      <td>0.0</td>\n",
       "      <td>0.0</td>\n",
       "      <td>0.0</td>\n",
       "    </tr>\n",
       "  </tbody>\n",
       "</table>\n",
       "<p>2 rows × 50 columns</p>\n",
       "</div>"
      ],
      "text/plain": [
       "                              RemoteWork            EdLevel  YearsCodePro  \\\n",
       "10  Hybrid (some remote, some in-person)  Bachelor’s degree           2.0   \n",
       "12  Hybrid (some remote, some in-person)  Bachelor’s degree           5.0   \n",
       "\n",
       "                                              Country              Age  \\\n",
       "10  United Kingdom of Great Britain and Northern I...  18-24 years old   \n",
       "12                           United States of America  25-34 years old   \n",
       "\n",
       "     Salary  Developer, full-stack  Developer, back-end  Developer, front-end  \\\n",
       "10  60307.0                    1.0                  1.0                   0.0   \n",
       "12  65000.0                    1.0                  0.0                   0.0   \n",
       "\n",
       "    DevOps specialist  ...  Microsoft Azure  Google Cloud  Firebase  Heroku  \\\n",
       "10                0.0  ...              1.0           0.0       0.0     0.0   \n",
       "12                0.0  ...              0.0           0.0       0.0     0.0   \n",
       "\n",
       "    DigitalOcean  Docker  npm  Homebrew  Yarn  Kubernetes  \n",
       "10           0.0     1.0  1.0       0.0   0.0         0.0  \n",
       "12           0.0     1.0  0.0       0.0   0.0         0.0  \n",
       "\n",
       "[2 rows x 50 columns]"
      ]
     },
     "execution_count": 3,
     "metadata": {},
     "output_type": "execute_result"
    }
   ],
   "source": [
    "df = load_df()\n",
    "print(f\"Dataframe shape: {df.shape}\")\n",
    "df.head(2)"
   ]
  },
  {
   "cell_type": "markdown",
   "metadata": {},
   "source": [
    "# **Get Train-Test split**"
   ]
  },
  {
   "cell_type": "code",
   "execution_count": 4,
   "metadata": {},
   "outputs": [
    {
     "name": "stdout",
     "output_type": "stream",
     "text": [
      "*************************\n",
      "Train shape: (20219, 50)\n",
      "Test shape: (1064, 50)\n",
      "*************************\n",
      "X_train shape: (20219, 49)\n",
      "y_train shape: (20219,)\n",
      "X_test shape: (1064, 49)\n",
      "y_test shape: (1064,)\n",
      "*************************\n"
     ]
    }
   ],
   "source": [
    "print(\"*\" * 25)\n",
    "train = df.sample(frac=0.95, random_state=42)\n",
    "test = df.drop(train.index)\n",
    "\n",
    "print(f\"Train shape: {train.shape}\")\n",
    "print(f\"Test shape: {test.shape}\")\n",
    "print(\"*\" * 25)\n",
    "\n",
    "X_train = train.drop([\"Salary\"], axis=1)\n",
    "y_train = train[\"Salary\"].values\n",
    "X_test= test.drop([\"Salary\"], axis=1)\n",
    "y_test = test[\"Salary\"].values\n",
    "\n",
    "print(f\"X_train shape: {X_train.shape}\")\n",
    "print(f\"y_train shape: {y_train.shape}\")\n",
    "print(f\"X_test shape: {X_test.shape}\")\n",
    "print(f\"y_test shape: {y_test.shape}\")\n",
    "print(\"*\" * 25)"
   ]
  },
  {
   "cell_type": "markdown",
   "metadata": {},
   "source": [
    "# **AdaBoost**"
   ]
  },
  {
   "cell_type": "code",
   "execution_count": 5,
   "metadata": {},
   "outputs": [
    {
     "name": "stdout",
     "output_type": "stream",
     "text": [
      "RMSE: mean: 38764.97440457434 | [37585.35695962 38924.38736436 38630.01312895 40356.03589556\n",
      " 38329.07867438]\n",
      "MAE: mean: 26193.787291398443 | [25466.27744807 26485.87362541 26011.96844664 27022.31706053\n",
      " 25982.49987633]\n",
      "R2-score: mean: 0.5928480966720853 | [0.60719844 0.5944499  0.59798265 0.56624913 0.59836036]\n",
      "*********************************************************************\n",
      "\n"
     ]
    }
   ],
   "source": [
    "transform = ColumnTransformer([\n",
    "    (\"label\", OrdinalEncoder(), [\"EdLevel\", \"Country\", \"Age\"]),\n",
    "    (\"onehot\", OneHotEncoder(sparse=False, handle_unknown=\"ignore\"), [\"RemoteWork\"]),\n",
    "    (\"scaler\", MaxAbsScaler(), [\"YearsCodePro\"])\n",
    "], remainder=\"passthrough\")\n",
    "\n",
    "model = AdaBoostRegressor(base_estimator=DecisionTreeRegressor(), n_estimators=200, random_state=42)\n",
    "\n",
    "pipe = Pipeline([\n",
    "    (\"preprocess\", transform),\n",
    "    (\"model\", model)\n",
    "])\n",
    "\n",
    "kfold = KFold(n_splits=5, shuffle=True, random_state=42)\n",
    "\n",
    "scores = cross_validate(pipe, X_train, y_train, cv=kfold, scoring=scoring, n_jobs=2)\n",
    "print(f\"RMSE: mean: {-1 * np.mean(scores['test_neg_root_mean_squared_error'])} | {-1 * scores['test_neg_root_mean_squared_error']}\")\n",
    "print(f\"MAE: mean: {-1 * np.mean(scores['test_neg_mean_absolute_error'])} | {-1 * scores['test_neg_mean_absolute_error']}\")\n",
    "print(f\"R2-score: mean: {np.mean(scores['test_r2'])} | {scores['test_r2']}\")\n",
    "print(\"*\" * 69)\n",
    "print()"
   ]
  },
  {
   "cell_type": "code",
   "execution_count": null,
   "metadata": {},
   "outputs": [],
   "source": [
    "transform = ColumnTransformer([\n",
    "    (\"label\", OrdinalEncoder(), [\"EdLevel\", \"Country\", \"Age\"]),\n",
    "    (\"onehot\", OneHotEncoder(sparse=False, handle_unknown=\"ignore\"), [\"RemoteWork\"]),\n",
    "    (\"scaler\", MaxAbsScaler(), [\"YearsCodePro\"])\n",
    "], remainder=\"passthrough\")\n",
    "\n",
    "model = AdaBoostRegressor(base_estimator=DecisionTreeRegressor(), random_state=42)\n",
    "params = {\n",
    "    \"n_estimators\": [*range(200, 560, 50)]\n",
    "}\n",
    "\n",
    "grid = GridSearchCV(estimator=model, param_grid=params, scoring=scoring, n_jobs=3, verbose=1, cv=5, refit=\"r2\")\n",
    "\n",
    "pipe = Pipeline([\n",
    "    (\"preprocess\", transform),\n",
    "    (\"grid\", grid)\n",
    "])\n",
    "\n",
    "pipe.fit(X_train, y_train)\n",
    "print(f\"The best params: {pipe.best_params}\")\n",
    "print(f\"The best score: {pipe.best_score_}\")"
   ]
  },
  {
   "cell_type": "code",
   "execution_count": 6,
   "metadata": {},
   "outputs": [
    {
     "name": "stdout",
     "output_type": "stream",
     "text": [
      "RMSE: mean: 38659.405212849546 | [37566.69471491 38713.00785021 38599.58329832 40031.06714097\n",
      " 38386.67305984]\n",
      "MAE: mean: 26132.649260817718 | [25427.60608309 26380.83965021 26088.16861034 26787.17784223\n",
      " 25979.45411823]\n",
      "R2-score: mean: 0.595081167178998 | [0.60758842 0.59884263 0.59861576 0.5732066  0.59715242]\n",
      "*********************************************************************\n",
      "\n"
     ]
    }
   ],
   "source": [
    "label_scaling = Pipeline([\n",
    "    (\"label_encode\", OrdinalEncoder()),\n",
    "    (\"scale\", MaxAbsScaler())\n",
    "])\n",
    "\n",
    "transform = ColumnTransformer([\n",
    "    (\"label\", label_scaling, [\"EdLevel\", \"Country\", \"Age\"]),\n",
    "    (\"onehot\", OneHotEncoder(sparse=False, handle_unknown=\"ignore\"), [\"RemoteWork\"]),\n",
    "    (\"scaler\", MaxAbsScaler(), [\"YearsCodePro\"])\n",
    "], remainder=\"passthrough\")\n",
    "\n",
    "model = AdaBoostRegressor(base_estimator=DecisionTreeRegressor(), n_estimators=200, random_state=42)\n",
    "\n",
    "pipe = Pipeline([\n",
    "    (\"preprocess\", transform),\n",
    "    (\"model\", model)\n",
    "])\n",
    "\n",
    "kfold = KFold(n_splits=5, shuffle=True, random_state=42)\n",
    "\n",
    "scores = cross_validate(pipe, X_train, y_train, cv=kfold, scoring=scoring, n_jobs=2, return_estimator=True)\n",
    "print(f\"RMSE: mean: {-1 * np.mean(scores['test_neg_root_mean_squared_error'])} | {-1 * scores['test_neg_root_mean_squared_error']}\")\n",
    "print(f\"MAE: mean: {-1 * np.mean(scores['test_neg_mean_absolute_error'])} | {-1 * scores['test_neg_mean_absolute_error']}\")\n",
    "print(f\"R2-score: mean: {np.mean(scores['test_r2'])} | {scores['test_r2']}\")\n",
    "print(\"*\" * 69)\n",
    "print()"
   ]
  },
  {
   "cell_type": "markdown",
   "metadata": {},
   "source": [
    "# **Bagging**"
   ]
  },
  {
   "cell_type": "code",
   "execution_count": 7,
   "metadata": {},
   "outputs": [
    {
     "name": "stdout",
     "output_type": "stream",
     "text": [
      "RMSE: mean: 38911.11883075573 | [38070.85579488 39099.72393929 38477.89847245 40414.39031969\n",
      " 38492.72562747]\n",
      "MAE: mean: 27417.893751010077 | [26963.84926682 27849.56810872 27012.6656693  28108.0319531\n",
      " 27155.35375711]\n",
      "R2-score: mean: 0.5897665701292938 | [0.59698508 0.59078803 0.60114249 0.56499383 0.59492342]\n",
      "*********************************************************************\n",
      "\n"
     ]
    }
   ],
   "source": [
    "transform = ColumnTransformer([\n",
    "    (\"label\", OrdinalEncoder(), [\"EdLevel\", \"Country\", \"Age\"]),\n",
    "    (\"onehot\", OneHotEncoder(sparse=False, handle_unknown=\"ignore\"), [\"RemoteWork\"]),\n",
    "    (\"scaler\", MaxAbsScaler(), [\"YearsCodePro\"])\n",
    "], remainder=\"passthrough\")\n",
    "\n",
    "model = BaggingRegressor(base_estimator=DecisionTreeRegressor(), n_estimators=200, n_jobs=2, random_state=42)\n",
    "\n",
    "pipe = Pipeline([\n",
    "    (\"preprocess\", transform),\n",
    "    (\"model\", model)\n",
    "])\n",
    "\n",
    "kfold = KFold(n_splits=5, shuffle=True, random_state=42)\n",
    "\n",
    "scores = cross_validate(pipe, X_train, y_train, cv=kfold, scoring=scoring, n_jobs=2)\n",
    "print(f\"RMSE: mean: {-1 * np.mean(scores['test_neg_root_mean_squared_error'])} | {-1 * scores['test_neg_root_mean_squared_error']}\")\n",
    "print(f\"MAE: mean: {-1 * np.mean(scores['test_neg_mean_absolute_error'])} | {-1 * scores['test_neg_mean_absolute_error']}\")\n",
    "print(f\"R2-score: mean: {np.mean(scores['test_r2'])} | {scores['test_r2']}\")\n",
    "print(\"*\" * 69)\n",
    "print()"
   ]
  },
  {
   "cell_type": "code",
   "execution_count": 8,
   "metadata": {},
   "outputs": [
    {
     "name": "stdout",
     "output_type": "stream",
     "text": [
      "RMSE: mean: 38911.48390781162 | [38074.50016802 39101.40081064 38476.81493544 40412.19987377\n",
      " 38492.50375119]\n",
      "MAE: mean: 27418.35992826893 | [26965.17349777 27850.79318538 27013.14875907 28107.74126813\n",
      " 27154.94293099]\n",
      "R2-score: mean: 0.5897589749143257 | [0.59690792 0.59075293 0.60116496 0.56504098 0.59492809]\n",
      "*********************************************************************\n",
      "\n"
     ]
    }
   ],
   "source": [
    "label_scaling = Pipeline([\n",
    "    (\"label_encode\", OrdinalEncoder()),\n",
    "    (\"scale\", MaxAbsScaler())\n",
    "])\n",
    "\n",
    "transform = ColumnTransformer([\n",
    "    (\"label\", label_scaling, [\"EdLevel\", \"Country\", \"Age\"]),\n",
    "    (\"onehot\", OneHotEncoder(sparse=False, handle_unknown=\"ignore\"), [\"RemoteWork\"]),\n",
    "    (\"scaler\", MaxAbsScaler(), [\"YearsCodePro\"])\n",
    "], remainder=\"passthrough\")\n",
    "\n",
    "model = BaggingRegressor(base_estimator=DecisionTreeRegressor(), n_estimators=200, n_jobs=2, random_state=42)\n",
    "\n",
    "pipe = Pipeline([\n",
    "    (\"preprocess\", transform),\n",
    "    (\"model\", model)\n",
    "])\n",
    "\n",
    "kfold = KFold(n_splits=5, shuffle=True, random_state=42)\n",
    "\n",
    "scores = cross_validate(pipe, X_train, y_train, cv=kfold, scoring=scoring, n_jobs=2, return_estimator=True)\n",
    "print(f\"RMSE: mean: {-1 * np.mean(scores['test_neg_root_mean_squared_error'])} | {-1 * scores['test_neg_root_mean_squared_error']}\")\n",
    "print(f\"MAE: mean: {-1 * np.mean(scores['test_neg_mean_absolute_error'])} | {-1 * scores['test_neg_mean_absolute_error']}\")\n",
    "print(f\"R2-score: mean: {np.mean(scores['test_r2'])} | {scores['test_r2']}\")\n",
    "print(\"*\" * 69)\n",
    "print()"
   ]
  },
  {
   "cell_type": "markdown",
   "metadata": {},
   "source": [
    "# **RandomForest**"
   ]
  },
  {
   "cell_type": "code",
   "execution_count": 9,
   "metadata": {},
   "outputs": [
    {
     "name": "stdout",
     "output_type": "stream",
     "text": [
      "RMSE: mean: 38917.28320578492 | [38091.66786902 39123.25578711 38459.56648893 40363.86931061\n",
      " 38548.05657325]\n",
      "MAE: mean: 27427.936402339943 | [26987.93126113 27882.32719873 27010.836114   28074.1387908\n",
      " 27184.44864704]\n",
      "R2-score: mean: 0.5896401744787039 | [0.59654433 0.59029532 0.60152246 0.56608073 0.59375804]\n",
      "*********************************************************************\n",
      "\n"
     ]
    }
   ],
   "source": [
    "transform = ColumnTransformer([\n",
    "    (\"label\", OrdinalEncoder(), [\"EdLevel\", \"Country\", \"Age\"]),\n",
    "    (\"onehot\", OneHotEncoder(sparse=False, handle_unknown=\"ignore\"), [\"RemoteWork\"]),\n",
    "    (\"scaler\", MaxAbsScaler(), [\"YearsCodePro\"])\n",
    "], remainder=\"passthrough\")\n",
    "\n",
    "model = RandomForestRegressor(n_estimators=200, n_jobs=2, random_state=42)\n",
    "\n",
    "pipe = Pipeline([\n",
    "    (\"preprocess\", transform),\n",
    "    (\"model\", model)\n",
    "])\n",
    "\n",
    "kfold = KFold(n_splits=5, shuffle=True, random_state=42)\n",
    "\n",
    "scores = cross_validate(pipe, X_train, y_train, cv=kfold, scoring=scoring, n_jobs=2)\n",
    "print(f\"RMSE: mean: {-1 * np.mean(scores['test_neg_root_mean_squared_error'])} | {-1 * scores['test_neg_root_mean_squared_error']}\")\n",
    "print(f\"MAE: mean: {-1 * np.mean(scores['test_neg_mean_absolute_error'])} | {-1 * scores['test_neg_mean_absolute_error']}\")\n",
    "print(f\"R2-score: mean: {np.mean(scores['test_r2'])} | {scores['test_r2']}\")\n",
    "print(\"*\" * 69)\n",
    "print()"
   ]
  },
  {
   "cell_type": "code",
   "execution_count": 10,
   "metadata": {},
   "outputs": [
    {
     "name": "stdout",
     "output_type": "stream",
     "text": [
      "RMSE: mean: 38917.73001434382 | [38095.71336438 39125.12720277 38458.77956107 40361.39331942\n",
      " 38547.63662407]\n",
      "MAE: mean: 27428.459827085626 | [26989.6970413  27882.14274151 27012.45427671 28073.68307122\n",
      " 27184.3220047 ]\n",
      "R2-score: mean: 0.5896308729818247 | [0.59645863 0.59025613 0.60153876 0.56613396 0.59376689]\n",
      "*********************************************************************\n",
      "\n"
     ]
    }
   ],
   "source": [
    "label_scaling = Pipeline([\n",
    "    (\"label_encode\", OrdinalEncoder()),\n",
    "    (\"scale\", MaxAbsScaler())\n",
    "])\n",
    "\n",
    "transform = ColumnTransformer([\n",
    "    (\"label\", label_scaling, [\"EdLevel\", \"Country\", \"Age\"]),\n",
    "    (\"onehot\", OneHotEncoder(sparse=False, handle_unknown=\"ignore\"), [\"RemoteWork\"]),\n",
    "    (\"scaler\", MaxAbsScaler(), [\"YearsCodePro\"])\n",
    "], remainder=\"passthrough\")\n",
    "\n",
    "model = RandomForestRegressor(n_estimators=200, n_jobs=2, random_state=42)\n",
    "\n",
    "pipe = Pipeline([\n",
    "    (\"preprocess\", transform),\n",
    "    (\"model\", model)\n",
    "])\n",
    "\n",
    "kfold = KFold(n_splits=5, shuffle=True, random_state=42)\n",
    "\n",
    "scores = cross_validate(pipe, X_train, y_train, cv=kfold, scoring=scoring, n_jobs=2, return_estimator=True)\n",
    "print(f\"RMSE: mean: {-1 * np.mean(scores['test_neg_root_mean_squared_error'])} | {-1 * scores['test_neg_root_mean_squared_error']}\")\n",
    "print(f\"MAE: mean: {-1 * np.mean(scores['test_neg_mean_absolute_error'])} | {-1 * scores['test_neg_mean_absolute_error']}\")\n",
    "print(f\"R2-score: mean: {np.mean(scores['test_r2'])} | {scores['test_r2']}\")\n",
    "print(\"*\" * 69)\n",
    "print()"
   ]
  },
  {
   "cell_type": "markdown",
   "metadata": {},
   "source": [
    "# **Gradient Boost**"
   ]
  },
  {
   "cell_type": "code",
   "execution_count": 11,
   "metadata": {},
   "outputs": [
    {
     "name": "stdout",
     "output_type": "stream",
     "text": [
      "RMSE: mean: 37730.7612213689 | [36736.50299898 37845.68564879 37482.05424689 39532.57814741\n",
      " 37056.98506477]\n",
      "MAE: mean: 26009.150920067732 | [25515.908245   26423.78759751 25698.72456364 26827.23175549\n",
      " 25580.10243871]\n",
      "R2-score: mean: 0.614245085231671 | [0.62474069 0.61661625 0.62152095 0.58376976 0.62457778]\n",
      "*********************************************************************\n",
      "\n"
     ]
    }
   ],
   "source": [
    "transform = ColumnTransformer([\n",
    "    (\"label\", OrdinalEncoder(), [\"EdLevel\", \"Country\", \"Age\"]),\n",
    "    (\"onehot\", OneHotEncoder(sparse=False, handle_unknown=\"ignore\"), [\"RemoteWork\"]),\n",
    "    (\"scaler\", MaxAbsScaler(), [\"YearsCodePro\"])\n",
    "], remainder=\"passthrough\")\n",
    "\n",
    "model = GradientBoostingRegressor(n_estimators=200)\n",
    "\n",
    "pipe = Pipeline([\n",
    "    (\"preprocess\", transform),\n",
    "    (\"model\", model)\n",
    "])\n",
    "\n",
    "kfold = KFold(n_splits=5, shuffle=True, random_state=42)\n",
    "\n",
    "scores = cross_validate(pipe, X_train, y_train, cv=kfold, scoring=scoring, n_jobs=2)\n",
    "print(f\"RMSE: mean: {-1 * np.mean(scores['test_neg_root_mean_squared_error'])} | {-1 * scores['test_neg_root_mean_squared_error']}\")\n",
    "print(f\"MAE: mean: {-1 * np.mean(scores['test_neg_mean_absolute_error'])} | {-1 * scores['test_neg_mean_absolute_error']}\")\n",
    "print(f\"R2-score: mean: {np.mean(scores['test_r2'])} | {scores['test_r2']}\")\n",
    "print(\"*\" * 69)\n",
    "print()"
   ]
  },
  {
   "cell_type": "code",
   "execution_count": 12,
   "metadata": {},
   "outputs": [
    {
     "name": "stdout",
     "output_type": "stream",
     "text": [
      "RMSE: mean: 37731.81278252379 | [36737.15440576 37845.68564879 37482.05424689 39532.92471638\n",
      " 37061.24489479]\n",
      "MAE: mean: 26010.10769767022 | [25515.908245   26423.78759751 25698.72456364 26828.53321816\n",
      " 25583.58486405]\n",
      "R2-score: mean: 0.6142237005706326 | [0.62472738 0.61661625 0.62152095 0.58376246 0.62449146]\n",
      "*********************************************************************\n",
      "\n"
     ]
    }
   ],
   "source": [
    "label_scaling = Pipeline([\n",
    "    (\"label_encode\", OrdinalEncoder()),\n",
    "    (\"scale\", MaxAbsScaler())\n",
    "])\n",
    "\n",
    "transform = ColumnTransformer([\n",
    "    (\"label\", label_scaling, [\"EdLevel\", \"Country\", \"Age\"]),\n",
    "    (\"onehot\", OneHotEncoder(sparse=False, handle_unknown=\"ignore\"), [\"RemoteWork\"]),\n",
    "    (\"scaler\", MaxAbsScaler(), [\"YearsCodePro\"])\n",
    "], remainder=\"passthrough\")\n",
    "\n",
    "model = GradientBoostingRegressor(n_estimators=200)\n",
    "\n",
    "pipe = Pipeline([\n",
    "    (\"preprocess\", transform),\n",
    "    (\"model\", model)\n",
    "])\n",
    "\n",
    "kfold = KFold(n_splits=5, shuffle=True, random_state=42)\n",
    "\n",
    "scores = cross_validate(pipe, X_train, y_train, cv=kfold, scoring=scoring, n_jobs=2, return_estimator=True)\n",
    "print(f\"RMSE: mean: {-1 * np.mean(scores['test_neg_root_mean_squared_error'])} | {-1 * scores['test_neg_root_mean_squared_error']}\")\n",
    "print(f\"MAE: mean: {-1 * np.mean(scores['test_neg_mean_absolute_error'])} | {-1 * scores['test_neg_mean_absolute_error']}\")\n",
    "print(f\"R2-score: mean: {np.mean(scores['test_r2'])} | {scores['test_r2']}\")\n",
    "print(\"*\" * 69)\n",
    "print()"
   ]
  },
  {
   "cell_type": "code",
   "execution_count": null,
   "metadata": {},
   "outputs": [],
   "source": []
  }
 ],
 "metadata": {
  "kernelspec": {
   "display_name": "Python 3.10.6 ('base')",
   "language": "python",
   "name": "python3"
  },
  "language_info": {
   "codemirror_mode": {
    "name": "ipython",
    "version": 3
   },
   "file_extension": ".py",
   "mimetype": "text/x-python",
   "name": "python",
   "nbconvert_exporter": "python",
   "pygments_lexer": "ipython3",
   "version": "3.10.6"
  },
  "orig_nbformat": 4,
  "vscode": {
   "interpreter": {
    "hash": "c6e4e9f98eb68ad3b7c296f83d20e6de614cb42e90992a65aa266555a3137d0d"
   }
  }
 },
 "nbformat": 4,
 "nbformat_minor": 2
}
