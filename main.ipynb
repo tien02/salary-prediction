{
  "cells": [
    {
      "cell_type": "code",
      "source": [
        "from google.colab import drive\n",
        "drive.mount(\"/content/drive\")"
      ],
      "metadata": {
        "colab": {
          "base_uri": "https://localhost:8080/"
        },
        "id": "2HunwZbo5f9u",
        "outputId": "c613d8c3-847a-4a32-9b32-c23eb1e76ba9"
      },
      "execution_count": 2,
      "outputs": [
        {
          "output_type": "stream",
          "name": "stdout",
          "text": [
            "Mounted at /content/drive\n"
          ]
        }
      ]
    },
    {
      "cell_type": "code",
      "source": [
        "%cd /content/drive/MyDrive/salary_pred"
      ],
      "metadata": {
        "colab": {
          "base_uri": "https://localhost:8080/"
        },
        "id": "gwAJp9QC5tFC",
        "outputId": "805545b6-2381-415c-c9a8-ca853880ce79"
      },
      "execution_count": 3,
      "outputs": [
        {
          "output_type": "stream",
          "name": "stdout",
          "text": [
            "/content/drive/MyDrive/salary_pred\n"
          ]
        }
      ]
    },
    {
      "cell_type": "markdown",
      "source": [
        "# **Loading**"
      ],
      "metadata": {
        "id": "ix3gzyvnFdvw"
      }
    },
    {
      "cell_type": "code",
      "execution_count": 4,
      "metadata": {
        "id": "CajFigsV5eY3"
      },
      "outputs": [],
      "source": [
        "import numpy as np\n",
        "import pandas as pd\n",
        "import matplotlib.pyplot as plt\n",
        "import seaborn as sns\n",
        "from sklearn.preprocessing import RobustScaler, StandardScaler, MaxAbsScaler, MinMaxScaler, OneHotEncoder, OrdinalEncoder\n",
        "from sklearn.model_selection import KFold, GridSearchCV\n",
        "\n",
        "from dataset.load import load_df\n",
        "from utils import evaluate\n",
        "\n",
        "from sklearn.tree import DecisionTreeRegressor\n",
        "from sklearn.ensemble import BaggingRegressor, RandomForestRegressor, AdaBoostRegressor, GradientBoostingRegressor\n",
        "from sklearn.model_selection import cross_validate\n",
        "\n",
        "from sklearn.pipeline import Pipeline\n",
        "from sklearn.compose import ColumnTransformer"
      ]
    },
    {
      "cell_type": "code",
      "execution_count": 5,
      "metadata": {
        "id": "7vLznCmE5eY6"
      },
      "outputs": [],
      "source": [
        "scoring = [\"neg_root_mean_squared_error\",  \n",
        "            \"neg_mean_absolute_error\", \"r2\"]"
      ]
    },
    {
      "cell_type": "code",
      "execution_count": 6,
      "metadata": {
        "colab": {
          "base_uri": "https://localhost:8080/",
          "height": 391
        },
        "id": "kwcqhxzP5eY7",
        "outputId": "207ad75e-ea58-4658-a287-88cfccf5b2a2"
      },
      "outputs": [
        {
          "output_type": "stream",
          "name": "stdout",
          "text": [
            "Dataframe shape: (21283, 50)\n"
          ]
        },
        {
          "output_type": "execute_result",
          "data": {
            "text/plain": [
              "                              RemoteWork            EdLevel  YearsCodePro  \\\n",
              "10  Hybrid (some remote, some in-person)  Bachelor’s degree           2.0   \n",
              "12  Hybrid (some remote, some in-person)  Bachelor’s degree           5.0   \n",
              "\n",
              "                                              Country              Age  \\\n",
              "10  United Kingdom of Great Britain and Northern I...  18-24 years old   \n",
              "12                           United States of America  25-34 years old   \n",
              "\n",
              "     Salary  Developer, full-stack  Developer, back-end  Developer, front-end  \\\n",
              "10  60307.0                    1.0                  1.0                   0.0   \n",
              "12  65000.0                    1.0                  0.0                   0.0   \n",
              "\n",
              "    DevOps specialist  ...  Microsoft Azure  Google Cloud  Firebase  Heroku  \\\n",
              "10                0.0  ...              1.0           0.0       0.0     0.0   \n",
              "12                0.0  ...              0.0           0.0       0.0     0.0   \n",
              "\n",
              "    DigitalOcean  Docker  npm  Homebrew  Yarn  Kubernetes  \n",
              "10           0.0     1.0  1.0       0.0   0.0         0.0  \n",
              "12           0.0     1.0  0.0       0.0   0.0         0.0  \n",
              "\n",
              "[2 rows x 50 columns]"
            ],
            "text/html": [
              "\n",
              "  <div id=\"df-216b971f-5b04-4604-b473-f172b269f47c\">\n",
              "    <div class=\"colab-df-container\">\n",
              "      <div>\n",
              "<style scoped>\n",
              "    .dataframe tbody tr th:only-of-type {\n",
              "        vertical-align: middle;\n",
              "    }\n",
              "\n",
              "    .dataframe tbody tr th {\n",
              "        vertical-align: top;\n",
              "    }\n",
              "\n",
              "    .dataframe thead th {\n",
              "        text-align: right;\n",
              "    }\n",
              "</style>\n",
              "<table border=\"1\" class=\"dataframe\">\n",
              "  <thead>\n",
              "    <tr style=\"text-align: right;\">\n",
              "      <th></th>\n",
              "      <th>RemoteWork</th>\n",
              "      <th>EdLevel</th>\n",
              "      <th>YearsCodePro</th>\n",
              "      <th>Country</th>\n",
              "      <th>Age</th>\n",
              "      <th>Salary</th>\n",
              "      <th>Developer, full-stack</th>\n",
              "      <th>Developer, back-end</th>\n",
              "      <th>Developer, front-end</th>\n",
              "      <th>DevOps specialist</th>\n",
              "      <th>...</th>\n",
              "      <th>Microsoft Azure</th>\n",
              "      <th>Google Cloud</th>\n",
              "      <th>Firebase</th>\n",
              "      <th>Heroku</th>\n",
              "      <th>DigitalOcean</th>\n",
              "      <th>Docker</th>\n",
              "      <th>npm</th>\n",
              "      <th>Homebrew</th>\n",
              "      <th>Yarn</th>\n",
              "      <th>Kubernetes</th>\n",
              "    </tr>\n",
              "  </thead>\n",
              "  <tbody>\n",
              "    <tr>\n",
              "      <th>10</th>\n",
              "      <td>Hybrid (some remote, some in-person)</td>\n",
              "      <td>Bachelor’s degree</td>\n",
              "      <td>2.0</td>\n",
              "      <td>United Kingdom of Great Britain and Northern I...</td>\n",
              "      <td>18-24 years old</td>\n",
              "      <td>60307.0</td>\n",
              "      <td>1.0</td>\n",
              "      <td>1.0</td>\n",
              "      <td>0.0</td>\n",
              "      <td>0.0</td>\n",
              "      <td>...</td>\n",
              "      <td>1.0</td>\n",
              "      <td>0.0</td>\n",
              "      <td>0.0</td>\n",
              "      <td>0.0</td>\n",
              "      <td>0.0</td>\n",
              "      <td>1.0</td>\n",
              "      <td>1.0</td>\n",
              "      <td>0.0</td>\n",
              "      <td>0.0</td>\n",
              "      <td>0.0</td>\n",
              "    </tr>\n",
              "    <tr>\n",
              "      <th>12</th>\n",
              "      <td>Hybrid (some remote, some in-person)</td>\n",
              "      <td>Bachelor’s degree</td>\n",
              "      <td>5.0</td>\n",
              "      <td>United States of America</td>\n",
              "      <td>25-34 years old</td>\n",
              "      <td>65000.0</td>\n",
              "      <td>1.0</td>\n",
              "      <td>0.0</td>\n",
              "      <td>0.0</td>\n",
              "      <td>0.0</td>\n",
              "      <td>...</td>\n",
              "      <td>0.0</td>\n",
              "      <td>0.0</td>\n",
              "      <td>0.0</td>\n",
              "      <td>0.0</td>\n",
              "      <td>0.0</td>\n",
              "      <td>1.0</td>\n",
              "      <td>0.0</td>\n",
              "      <td>0.0</td>\n",
              "      <td>0.0</td>\n",
              "      <td>0.0</td>\n",
              "    </tr>\n",
              "  </tbody>\n",
              "</table>\n",
              "<p>2 rows × 50 columns</p>\n",
              "</div>\n",
              "      <button class=\"colab-df-convert\" onclick=\"convertToInteractive('df-216b971f-5b04-4604-b473-f172b269f47c')\"\n",
              "              title=\"Convert this dataframe to an interactive table.\"\n",
              "              style=\"display:none;\">\n",
              "        \n",
              "  <svg xmlns=\"http://www.w3.org/2000/svg\" height=\"24px\"viewBox=\"0 0 24 24\"\n",
              "       width=\"24px\">\n",
              "    <path d=\"M0 0h24v24H0V0z\" fill=\"none\"/>\n",
              "    <path d=\"M18.56 5.44l.94 2.06.94-2.06 2.06-.94-2.06-.94-.94-2.06-.94 2.06-2.06.94zm-11 1L8.5 8.5l.94-2.06 2.06-.94-2.06-.94L8.5 2.5l-.94 2.06-2.06.94zm10 10l.94 2.06.94-2.06 2.06-.94-2.06-.94-.94-2.06-.94 2.06-2.06.94z\"/><path d=\"M17.41 7.96l-1.37-1.37c-.4-.4-.92-.59-1.43-.59-.52 0-1.04.2-1.43.59L10.3 9.45l-7.72 7.72c-.78.78-.78 2.05 0 2.83L4 21.41c.39.39.9.59 1.41.59.51 0 1.02-.2 1.41-.59l7.78-7.78 2.81-2.81c.8-.78.8-2.07 0-2.86zM5.41 20L4 18.59l7.72-7.72 1.47 1.35L5.41 20z\"/>\n",
              "  </svg>\n",
              "      </button>\n",
              "      \n",
              "  <style>\n",
              "    .colab-df-container {\n",
              "      display:flex;\n",
              "      flex-wrap:wrap;\n",
              "      gap: 12px;\n",
              "    }\n",
              "\n",
              "    .colab-df-convert {\n",
              "      background-color: #E8F0FE;\n",
              "      border: none;\n",
              "      border-radius: 50%;\n",
              "      cursor: pointer;\n",
              "      display: none;\n",
              "      fill: #1967D2;\n",
              "      height: 32px;\n",
              "      padding: 0 0 0 0;\n",
              "      width: 32px;\n",
              "    }\n",
              "\n",
              "    .colab-df-convert:hover {\n",
              "      background-color: #E2EBFA;\n",
              "      box-shadow: 0px 1px 2px rgba(60, 64, 67, 0.3), 0px 1px 3px 1px rgba(60, 64, 67, 0.15);\n",
              "      fill: #174EA6;\n",
              "    }\n",
              "\n",
              "    [theme=dark] .colab-df-convert {\n",
              "      background-color: #3B4455;\n",
              "      fill: #D2E3FC;\n",
              "    }\n",
              "\n",
              "    [theme=dark] .colab-df-convert:hover {\n",
              "      background-color: #434B5C;\n",
              "      box-shadow: 0px 1px 3px 1px rgba(0, 0, 0, 0.15);\n",
              "      filter: drop-shadow(0px 1px 2px rgba(0, 0, 0, 0.3));\n",
              "      fill: #FFFFFF;\n",
              "    }\n",
              "  </style>\n",
              "\n",
              "      <script>\n",
              "        const buttonEl =\n",
              "          document.querySelector('#df-216b971f-5b04-4604-b473-f172b269f47c button.colab-df-convert');\n",
              "        buttonEl.style.display =\n",
              "          google.colab.kernel.accessAllowed ? 'block' : 'none';\n",
              "\n",
              "        async function convertToInteractive(key) {\n",
              "          const element = document.querySelector('#df-216b971f-5b04-4604-b473-f172b269f47c');\n",
              "          const dataTable =\n",
              "            await google.colab.kernel.invokeFunction('convertToInteractive',\n",
              "                                                     [key], {});\n",
              "          if (!dataTable) return;\n",
              "\n",
              "          const docLinkHtml = 'Like what you see? Visit the ' +\n",
              "            '<a target=\"_blank\" href=https://colab.research.google.com/notebooks/data_table.ipynb>data table notebook</a>'\n",
              "            + ' to learn more about interactive tables.';\n",
              "          element.innerHTML = '';\n",
              "          dataTable['output_type'] = 'display_data';\n",
              "          await google.colab.output.renderOutput(dataTable, element);\n",
              "          const docLink = document.createElement('div');\n",
              "          docLink.innerHTML = docLinkHtml;\n",
              "          element.appendChild(docLink);\n",
              "        }\n",
              "      </script>\n",
              "    </div>\n",
              "  </div>\n",
              "  "
            ]
          },
          "metadata": {},
          "execution_count": 6
        }
      ],
      "source": [
        "df = load_df()\n",
        "print(f\"Dataframe shape: {df.shape}\")\n",
        "df.head(2)"
      ]
    },
    {
      "cell_type": "markdown",
      "metadata": {
        "id": "mc96tSBE5eY7"
      },
      "source": [
        "# **Get Train-Test split**"
      ]
    },
    {
      "cell_type": "code",
      "execution_count": 7,
      "metadata": {
        "colab": {
          "base_uri": "https://localhost:8080/"
        },
        "id": "Pithkpr35eY8",
        "outputId": "6d5f38f2-ee29-4775-b525-f0bedcad5100"
      },
      "outputs": [
        {
          "output_type": "stream",
          "name": "stdout",
          "text": [
            "*************************\n",
            "Train shape: (20219, 50)\n",
            "Test shape: (1064, 50)\n",
            "*************************\n",
            "X_train shape: (20219, 49)\n",
            "y_train shape: (20219,)\n",
            "X_test shape: (1064, 49)\n",
            "y_test shape: (1064,)\n",
            "*************************\n"
          ]
        }
      ],
      "source": [
        "print(\"*\" * 25)\n",
        "train = df.sample(frac=0.95, random_state=42)\n",
        "test = df.drop(train.index)\n",
        "\n",
        "print(f\"Train shape: {train.shape}\")\n",
        "print(f\"Test shape: {test.shape}\")\n",
        "print(\"*\" * 25)\n",
        "\n",
        "X_train = train.drop([\"Salary\"], axis=1)\n",
        "y_train = train[\"Salary\"].values\n",
        "X_test= test.drop([\"Salary\"], axis=1)\n",
        "y_test = test[\"Salary\"].values\n",
        "\n",
        "print(f\"X_train shape: {X_train.shape}\")\n",
        "print(f\"y_train shape: {y_train.shape}\")\n",
        "print(f\"X_test shape: {X_test.shape}\")\n",
        "print(f\"y_test shape: {y_test.shape}\")\n",
        "print(\"*\" * 25)"
      ]
    },
    {
      "cell_type": "markdown",
      "metadata": {
        "id": "OwTsaKc_5eY9"
      },
      "source": [
        "# **AdaBoost**"
      ]
    },
    {
      "cell_type": "code",
      "execution_count": null,
      "metadata": {
        "id": "9_nqY1Ry5eY9",
        "outputId": "5f48430f-beb8-4f99-f0a0-36ad26e1e1ac"
      },
      "outputs": [
        {
          "name": "stdout",
          "output_type": "stream",
          "text": [
            "RMSE: mean: 38764.97440457434 | [37585.35695962 38924.38736436 38630.01312895 40356.03589556\n",
            " 38329.07867438]\n",
            "MAE: mean: 26193.787291398443 | [25466.27744807 26485.87362541 26011.96844664 27022.31706053\n",
            " 25982.49987633]\n",
            "R2-score: mean: 0.5928480966720853 | [0.60719844 0.5944499  0.59798265 0.56624913 0.59836036]\n",
            "*********************************************************************\n",
            "\n"
          ]
        }
      ],
      "source": [
        "transform = ColumnTransformer([\n",
        "    (\"label\", OrdinalEncoder(), [\"EdLevel\", \"Country\", \"Age\"]),\n",
        "    (\"onehot\", OneHotEncoder(sparse=False, handle_unknown=\"ignore\"), [\"RemoteWork\"]),\n",
        "    (\"scaler\", MaxAbsScaler(), [\"YearsCodePro\"])\n",
        "], remainder=\"passthrough\")\n",
        "\n",
        "model = AdaBoostRegressor(base_estimator=DecisionTreeRegressor(), n_estimators=200, random_state=42)\n",
        "\n",
        "pipe = Pipeline([\n",
        "    (\"preprocess\", transform),\n",
        "    (\"model\", model)\n",
        "])\n",
        "\n",
        "kfold = KFold(n_splits=5, shuffle=True, random_state=42)\n",
        "\n",
        "scores = cross_validate(pipe, X_train, y_train, cv=kfold, scoring=scoring, n_jobs=2)\n",
        "print(f\"RMSE: mean: {-1 * np.mean(scores['test_neg_root_mean_squared_error'])} | {-1 * scores['test_neg_root_mean_squared_error']}\")\n",
        "print(f\"MAE: mean: {-1 * np.mean(scores['test_neg_mean_absolute_error'])} | {-1 * scores['test_neg_mean_absolute_error']}\")\n",
        "print(f\"R2-score: mean: {np.mean(scores['test_r2'])} | {scores['test_r2']}\")\n",
        "print(\"*\" * 69)\n",
        "print()"
      ]
    },
    {
      "cell_type": "code",
      "execution_count": 17,
      "metadata": {
        "colab": {
          "base_uri": "https://localhost:8080/"
        },
        "id": "qxRHl2y15eY-",
        "outputId": "1dc3bb5f-8977-44cb-fe97-7221e812e200"
      },
      "outputs": [
        {
          "metadata": {
            "tags": null
          },
          "name": "stdout",
          "output_type": "stream",
          "text": [
            "Fitting 5 folds for each of 8 candidates, totalling 40 fits\n"
          ]
        },
        {
          "output_type": "stream",
          "name": "stderr",
          "text": [
            "/usr/local/lib/python3.8/dist-packages/joblib/externals/loky/process_executor.py:700: UserWarning: A worker stopped while some jobs were given to the executor. This can be caused by a too short worker timeout or by a memory leak.\n",
            "  warnings.warn(\n"
          ]
        },
        {
          "output_type": "stream",
          "name": "stdout",
          "text": [
            "The best params: {'n_estimators': 400}\n",
            "The best score: 0.5960465049256479\n"
          ]
        }
      ],
      "source": [
        "transform = ColumnTransformer([\n",
        "    (\"label\", OrdinalEncoder(), [\"EdLevel\", \"Country\", \"Age\"]),\n",
        "    (\"onehot\", OneHotEncoder(sparse=False, handle_unknown=\"ignore\"), [\"RemoteWork\"]),\n",
        "    (\"scaler\", MaxAbsScaler(), [\"YearsCodePro\"])\n",
        "], remainder=\"passthrough\")\n",
        "\n",
        "model = AdaBoostRegressor(base_estimator=DecisionTreeRegressor(), random_state=42)\n",
        "params = {\n",
        "    \"n_estimators\": [*range(200, 560, 50)]\n",
        "}\n",
        "\n",
        "grid = GridSearchCV(estimator=model, param_grid=params, scoring=scoring, n_jobs=3, verbose=3, cv=5, refit=\"r2\")\n",
        "\n",
        "pipe = Pipeline([\n",
        "    (\"preprocess\", transform),\n",
        "    (\"grid\", grid)\n",
        "])\n",
        "\n",
        "pipe.fit(X_train, y_train)\n",
        "print(f\"The best params: {pipe['grid'].best_params_}\")\n",
        "print(f\"The best score: {pipe['grid'].best_score_}\")"
      ]
    },
    {
      "cell_type": "code",
      "execution_count": null,
      "metadata": {
        "id": "oSojgCAH5eY-",
        "outputId": "1d2c6443-824f-4770-8210-cc0faac6cf25"
      },
      "outputs": [
        {
          "name": "stdout",
          "output_type": "stream",
          "text": [
            "RMSE: mean: 38659.405212849546 | [37566.69471491 38713.00785021 38599.58329832 40031.06714097\n",
            " 38386.67305984]\n",
            "MAE: mean: 26132.649260817718 | [25427.60608309 26380.83965021 26088.16861034 26787.17784223\n",
            " 25979.45411823]\n",
            "R2-score: mean: 0.595081167178998 | [0.60758842 0.59884263 0.59861576 0.5732066  0.59715242]\n",
            "*********************************************************************\n",
            "\n"
          ]
        }
      ],
      "source": [
        "label_scaling = Pipeline([\n",
        "    (\"label_encode\", OrdinalEncoder()),\n",
        "    (\"scale\", MaxAbsScaler())\n",
        "])\n",
        "\n",
        "transform = ColumnTransformer([\n",
        "    (\"label\", label_scaling, [\"EdLevel\", \"Country\", \"Age\"]),\n",
        "    (\"onehot\", OneHotEncoder(sparse=False, handle_unknown=\"ignore\"), [\"RemoteWork\"]),\n",
        "    (\"scaler\", MaxAbsScaler(), [\"YearsCodePro\"])\n",
        "], remainder=\"passthrough\")\n",
        "\n",
        "model = AdaBoostRegressor(base_estimator=DecisionTreeRegressor(), n_estimators=200, random_state=42)\n",
        "\n",
        "pipe = Pipeline([\n",
        "    (\"preprocess\", transform),\n",
        "    (\"model\", model)\n",
        "])\n",
        "\n",
        "kfold = KFold(n_splits=5, shuffle=True, random_state=42)\n",
        "\n",
        "scores = cross_validate(pipe, X_train, y_train, cv=kfold, scoring=scoring, n_jobs=2, return_estimator=True)\n",
        "print(f\"RMSE: mean: {-1 * np.mean(scores['test_neg_root_mean_squared_error'])} | {-1 * scores['test_neg_root_mean_squared_error']}\")\n",
        "print(f\"MAE: mean: {-1 * np.mean(scores['test_neg_mean_absolute_error'])} | {-1 * scores['test_neg_mean_absolute_error']}\")\n",
        "print(f\"R2-score: mean: {np.mean(scores['test_r2'])} | {scores['test_r2']}\")\n",
        "print(\"*\" * 69)\n",
        "print()"
      ]
    },
    {
      "cell_type": "code",
      "source": [
        "label_scaling = Pipeline([\n",
        "    (\"label_encode\", OrdinalEncoder()),\n",
        "    (\"scale\", MaxAbsScaler())\n",
        "])\n",
        "\n",
        "transform = ColumnTransformer([\n",
        "    (\"label\", label_scaling, [\"EdLevel\", \"Country\", \"Age\"]),\n",
        "    (\"onehot\", OneHotEncoder(sparse=False, handle_unknown=\"ignore\"), [\"RemoteWork\"]),\n",
        "    (\"scaler\", MaxAbsScaler(), [\"YearsCodePro\"])\n",
        "], remainder=\"passthrough\")\n",
        "\n",
        "model = AdaBoostRegressor(base_estimator=DecisionTreeRegressor(), random_state=42)\n",
        "params = {\n",
        "    \"n_estimators\": [*range(200, 560, 50)]\n",
        "}\n",
        "\n",
        "grid = GridSearchCV(estimator=model, param_grid=params, scoring=scoring, n_jobs=3, verbose=3, cv=5, refit=\"r2\")\n",
        "\n",
        "pipe = Pipeline([\n",
        "    (\"preprocess\", transform),\n",
        "    (\"grid\", grid)\n",
        "])\n",
        "\n",
        "pipe.fit(X_train, y_train)\n",
        "print(f\"The best params: {pipe['grid'].best_params_}\")\n",
        "print(f\"The best score: {pipe['grid'].best_score_}\")"
      ],
      "metadata": {
        "colab": {
          "base_uri": "https://localhost:8080/"
        },
        "id": "gValrUyK54Bm",
        "outputId": "28080c22-2560-4e66-854d-f1e33cba2a42"
      },
      "execution_count": 18,
      "outputs": [
        {
          "output_type": "stream",
          "name": "stdout",
          "text": [
            "Fitting 5 folds for each of 8 candidates, totalling 40 fits\n",
            "The best params: {'n_estimators': 450}\n",
            "The best score: 0.5954698230376837\n"
          ]
        }
      ]
    },
    {
      "cell_type": "markdown",
      "metadata": {
        "id": "TgZcg5095eY_"
      },
      "source": [
        "# **Bagging**"
      ]
    },
    {
      "cell_type": "code",
      "execution_count": null,
      "metadata": {
        "id": "sveCJAjF5eY_",
        "outputId": "6aa846fc-1dcd-48f8-fae0-8c978b64bc6a"
      },
      "outputs": [
        {
          "name": "stdout",
          "output_type": "stream",
          "text": [
            "RMSE: mean: 38911.11883075573 | [38070.85579488 39099.72393929 38477.89847245 40414.39031969\n",
            " 38492.72562747]\n",
            "MAE: mean: 27417.893751010077 | [26963.84926682 27849.56810872 27012.6656693  28108.0319531\n",
            " 27155.35375711]\n",
            "R2-score: mean: 0.5897665701292938 | [0.59698508 0.59078803 0.60114249 0.56499383 0.59492342]\n",
            "*********************************************************************\n",
            "\n"
          ]
        }
      ],
      "source": [
        "transform = ColumnTransformer([\n",
        "    (\"label\", OrdinalEncoder(), [\"EdLevel\", \"Country\", \"Age\"]),\n",
        "    (\"onehot\", OneHotEncoder(sparse=False, handle_unknown=\"ignore\"), [\"RemoteWork\"]),\n",
        "    (\"scaler\", MaxAbsScaler(), [\"YearsCodePro\"])\n",
        "], remainder=\"passthrough\")\n",
        "\n",
        "model = BaggingRegressor(base_estimator=DecisionTreeRegressor(), n_estimators=200, n_jobs=2, random_state=42)\n",
        "\n",
        "pipe = Pipeline([\n",
        "    (\"preprocess\", transform),\n",
        "    (\"model\", model)\n",
        "])\n",
        "\n",
        "kfold = KFold(n_splits=5, shuffle=True, random_state=42)\n",
        "\n",
        "scores = cross_validate(pipe, X_train, y_train, cv=kfold, scoring=scoring, n_jobs=2)\n",
        "print(f\"RMSE: mean: {-1 * np.mean(scores['test_neg_root_mean_squared_error'])} | {-1 * scores['test_neg_root_mean_squared_error']}\")\n",
        "print(f\"MAE: mean: {-1 * np.mean(scores['test_neg_mean_absolute_error'])} | {-1 * scores['test_neg_mean_absolute_error']}\")\n",
        "print(f\"R2-score: mean: {np.mean(scores['test_r2'])} | {scores['test_r2']}\")\n",
        "print(\"*\" * 69)\n",
        "print()"
      ]
    },
    {
      "cell_type": "code",
      "source": [
        "transform = ColumnTransformer([\n",
        "    (\"label\", OrdinalEncoder(), [\"EdLevel\", \"Country\", \"Age\"]),\n",
        "    (\"onehot\", OneHotEncoder(sparse=False, handle_unknown=\"ignore\"), [\"RemoteWork\"]),\n",
        "    (\"scaler\", MaxAbsScaler(), [\"YearsCodePro\"])\n",
        "], remainder=\"passthrough\")\n",
        "\n",
        "model = BaggingRegressor(base_estimator=DecisionTreeRegressor(), random_state=42)\n",
        "params = {\n",
        "    \"n_estimators\": [*range(200, 560, 50)]\n",
        "}\n",
        "\n",
        "grid = GridSearchCV(estimator=model, param_grid=params, scoring=scoring, n_jobs=-1, verbose=3, cv=5, refit=\"r2\")\n",
        "\n",
        "pipe = Pipeline([\n",
        "    (\"preprocess\", transform),\n",
        "    (\"grid\", grid)\n",
        "])\n",
        "\n",
        "pipe.fit(X_train, y_train)\n",
        "print(f\"The best params: {pipe['grid'].best_params_}\")\n",
        "print(f\"The best score: {pipe['grid'].best_score_}\")"
      ],
      "metadata": {
        "colab": {
          "base_uri": "https://localhost:8080/"
        },
        "id": "V1D9tufX6jIE",
        "outputId": "f0b4c142-eb81-4f2a-d1dc-b59f3b41e9db"
      },
      "execution_count": 19,
      "outputs": [
        {
          "metadata": {
            "tags": null
          },
          "name": "stdout",
          "output_type": "stream",
          "text": [
            "Fitting 5 folds for each of 8 candidates, totalling 40 fits\n"
          ]
        },
        {
          "metadata": {
            "tags": null
          },
          "name": "stderr",
          "output_type": "stream",
          "text": [
            "/usr/local/lib/python3.8/dist-packages/joblib/externals/loky/process_executor.py:700: UserWarning: A worker stopped while some jobs were given to the executor. This can be caused by a too short worker timeout or by a memory leak.\n",
            "  warnings.warn(\n"
          ]
        },
        {
          "output_type": "stream",
          "name": "stdout",
          "text": [
            "The best params: {'n_estimators': 550}\n",
            "The best score: 0.5905154579424845\n"
          ]
        }
      ]
    },
    {
      "cell_type": "code",
      "execution_count": null,
      "metadata": {
        "id": "2fCzBDYY5eY_",
        "outputId": "0c5c9cb5-33b2-47eb-8a3b-9d05a1c6b45d"
      },
      "outputs": [
        {
          "name": "stdout",
          "output_type": "stream",
          "text": [
            "RMSE: mean: 38911.48390781162 | [38074.50016802 39101.40081064 38476.81493544 40412.19987377\n",
            " 38492.50375119]\n",
            "MAE: mean: 27418.35992826893 | [26965.17349777 27850.79318538 27013.14875907 28107.74126813\n",
            " 27154.94293099]\n",
            "R2-score: mean: 0.5897589749143257 | [0.59690792 0.59075293 0.60116496 0.56504098 0.59492809]\n",
            "*********************************************************************\n",
            "\n"
          ]
        }
      ],
      "source": [
        "label_scaling = Pipeline([\n",
        "    (\"label_encode\", OrdinalEncoder()),\n",
        "    (\"scale\", MaxAbsScaler())\n",
        "])\n",
        "\n",
        "transform = ColumnTransformer([\n",
        "    (\"label\", label_scaling, [\"EdLevel\", \"Country\", \"Age\"]),\n",
        "    (\"onehot\", OneHotEncoder(sparse=False, handle_unknown=\"ignore\"), [\"RemoteWork\"]),\n",
        "    (\"scaler\", MaxAbsScaler(), [\"YearsCodePro\"])\n",
        "], remainder=\"passthrough\")\n",
        "\n",
        "model = BaggingRegressor(base_estimator=DecisionTreeRegressor(), n_estimators=200, n_jobs=2, random_state=42)\n",
        "\n",
        "pipe = Pipeline([\n",
        "    (\"preprocess\", transform),\n",
        "    (\"model\", model)\n",
        "])\n",
        "\n",
        "kfold = KFold(n_splits=5, shuffle=True, random_state=42)\n",
        "\n",
        "scores = cross_validate(pipe, X_train, y_train, cv=kfold, scoring=scoring, n_jobs=2, return_estimator=True)\n",
        "print(f\"RMSE: mean: {-1 * np.mean(scores['test_neg_root_mean_squared_error'])} | {-1 * scores['test_neg_root_mean_squared_error']}\")\n",
        "print(f\"MAE: mean: {-1 * np.mean(scores['test_neg_mean_absolute_error'])} | {-1 * scores['test_neg_mean_absolute_error']}\")\n",
        "print(f\"R2-score: mean: {np.mean(scores['test_r2'])} | {scores['test_r2']}\")\n",
        "print(\"*\" * 69)\n",
        "print()"
      ]
    },
    {
      "cell_type": "code",
      "source": [
        "label_scaling = Pipeline([\n",
        "    (\"label_encode\", OrdinalEncoder()),\n",
        "    (\"scale\", MaxAbsScaler())\n",
        "])\n",
        "\n",
        "transform = ColumnTransformer([\n",
        "    (\"label\", label_scaling, [\"EdLevel\", \"Country\", \"Age\"]),\n",
        "    (\"onehot\", OneHotEncoder(sparse=False, handle_unknown=\"ignore\"), [\"RemoteWork\"]),\n",
        "    (\"scaler\", MaxAbsScaler(), [\"YearsCodePro\"])\n",
        "], remainder=\"passthrough\")\n",
        "\n",
        "model = BaggingRegressor(base_estimator=DecisionTreeRegressor(), random_state=42)\n",
        "params = {\n",
        "    \"n_estimators\": [*range(200, 560, 50)]\n",
        "}\n",
        "\n",
        "grid = GridSearchCV(estimator=model, param_grid=params, scoring=scoring, n_jobs=-1, verbose=3, cv=5, refit=\"r2\")\n",
        "\n",
        "pipe = Pipeline([\n",
        "    (\"preprocess\", transform),\n",
        "    (\"grid\", grid)\n",
        "])\n",
        "\n",
        "pipe.fit(X_train, y_train)\n",
        "print(f\"The best params: {pipe['grid'].best_params_}\")\n",
        "print(f\"The best score: {pipe['grid'].best_score_}\")"
      ],
      "metadata": {
        "colab": {
          "base_uri": "https://localhost:8080/"
        },
        "id": "M-LnlFF56U0F",
        "outputId": "99867399-8635-4275-8e8e-d03589e10d70"
      },
      "execution_count": 20,
      "outputs": [
        {
          "output_type": "stream",
          "name": "stdout",
          "text": [
            "Fitting 5 folds for each of 8 candidates, totalling 40 fits\n"
          ]
        },
        {
          "output_type": "stream",
          "name": "stderr",
          "text": [
            "/usr/local/lib/python3.8/dist-packages/joblib/externals/loky/process_executor.py:700: UserWarning: A worker stopped while some jobs were given to the executor. This can be caused by a too short worker timeout or by a memory leak.\n",
            "  warnings.warn(\n"
          ]
        },
        {
          "output_type": "stream",
          "name": "stdout",
          "text": [
            "The best params: {'n_estimators': 550}\n",
            "The best score: 0.5905388733335111\n"
          ]
        }
      ]
    },
    {
      "cell_type": "markdown",
      "metadata": {
        "id": "TTrvVVnX5eZA"
      },
      "source": [
        "# **RandomForest**"
      ]
    },
    {
      "cell_type": "code",
      "execution_count": null,
      "metadata": {
        "id": "VAHxb5wb5eZA",
        "outputId": "90e97e18-b0eb-4217-dca1-dc63c989282c"
      },
      "outputs": [
        {
          "name": "stdout",
          "output_type": "stream",
          "text": [
            "RMSE: mean: 38917.28320578492 | [38091.66786902 39123.25578711 38459.56648893 40363.86931061\n",
            " 38548.05657325]\n",
            "MAE: mean: 27427.936402339943 | [26987.93126113 27882.32719873 27010.836114   28074.1387908\n",
            " 27184.44864704]\n",
            "R2-score: mean: 0.5896401744787039 | [0.59654433 0.59029532 0.60152246 0.56608073 0.59375804]\n",
            "*********************************************************************\n",
            "\n"
          ]
        }
      ],
      "source": [
        "transform = ColumnTransformer([\n",
        "    (\"label\", OrdinalEncoder(), [\"EdLevel\", \"Country\", \"Age\"]),\n",
        "    (\"onehot\", OneHotEncoder(sparse=False, handle_unknown=\"ignore\"), [\"RemoteWork\"]),\n",
        "    (\"scaler\", MaxAbsScaler(), [\"YearsCodePro\"])\n",
        "], remainder=\"passthrough\")\n",
        "\n",
        "model = RandomForestRegressor(n_estimators=200, n_jobs=2, random_state=42)\n",
        "\n",
        "pipe = Pipeline([\n",
        "    (\"preprocess\", transform),\n",
        "    (\"model\", model)\n",
        "])\n",
        "\n",
        "kfold = KFold(n_splits=5, shuffle=True, random_state=42)\n",
        "\n",
        "scores = cross_validate(pipe, X_train, y_train, cv=kfold, scoring=scoring, n_jobs=2)\n",
        "print(f\"RMSE: mean: {-1 * np.mean(scores['test_neg_root_mean_squared_error'])} | {-1 * scores['test_neg_root_mean_squared_error']}\")\n",
        "print(f\"MAE: mean: {-1 * np.mean(scores['test_neg_mean_absolute_error'])} | {-1 * scores['test_neg_mean_absolute_error']}\")\n",
        "print(f\"R2-score: mean: {np.mean(scores['test_r2'])} | {scores['test_r2']}\")\n",
        "print(\"*\" * 69)\n",
        "print()"
      ]
    },
    {
      "cell_type": "code",
      "source": [
        "transform = ColumnTransformer([\n",
        "    (\"label\", OrdinalEncoder(), [\"EdLevel\", \"Country\", \"Age\"]),\n",
        "    (\"onehot\", OneHotEncoder(sparse=False, handle_unknown=\"ignore\"), [\"RemoteWork\"]),\n",
        "    (\"scaler\", MaxAbsScaler(), [\"YearsCodePro\"])\n",
        "], remainder=\"passthrough\")\n",
        "\n",
        "model = RandomForestRegressor(random_state=42)\n",
        "params = {\n",
        "    \"n_estimators\": [*range(200, 560, 50)]\n",
        "}\n",
        "\n",
        "grid = GridSearchCV(estimator=model, param_grid=params, scoring=scoring, n_jobs=-1, verbose=3, cv=5, refit=\"r2\")\n",
        "\n",
        "pipe = Pipeline([\n",
        "    (\"preprocess\", transform),\n",
        "    (\"grid\", grid)\n",
        "])\n",
        "\n",
        "pipe.fit(X_train, y_train)\n",
        "print(f\"The best params: {pipe['grid'].best_params_}\")\n",
        "print(f\"The best score: {pipe['grid'].best_score_}\")"
      ],
      "metadata": {
        "colab": {
          "base_uri": "https://localhost:8080/"
        },
        "id": "JQRiMrEmGRyv",
        "outputId": "19427dd6-8007-4810-f7b8-4e3f292f6933"
      },
      "execution_count": 21,
      "outputs": [
        {
          "output_type": "stream",
          "name": "stdout",
          "text": [
            "Fitting 5 folds for each of 8 candidates, totalling 40 fits\n"
          ]
        },
        {
          "output_type": "stream",
          "name": "stderr",
          "text": [
            "/usr/local/lib/python3.8/dist-packages/joblib/externals/loky/process_executor.py:700: UserWarning: A worker stopped while some jobs were given to the executor. This can be caused by a too short worker timeout or by a memory leak.\n",
            "  warnings.warn(\n"
          ]
        },
        {
          "output_type": "stream",
          "name": "stdout",
          "text": [
            "The best params: {'n_estimators': 550}\n",
            "The best score: 0.5904401829715102\n"
          ]
        }
      ]
    },
    {
      "cell_type": "code",
      "execution_count": null,
      "metadata": {
        "id": "zJin-oao5eZA",
        "outputId": "c7c155a1-6983-4250-e4e8-3d85c17021f1"
      },
      "outputs": [
        {
          "name": "stdout",
          "output_type": "stream",
          "text": [
            "RMSE: mean: 38917.73001434382 | [38095.71336438 39125.12720277 38458.77956107 40361.39331942\n",
            " 38547.63662407]\n",
            "MAE: mean: 27428.459827085626 | [26989.6970413  27882.14274151 27012.45427671 28073.68307122\n",
            " 27184.3220047 ]\n",
            "R2-score: mean: 0.5896308729818247 | [0.59645863 0.59025613 0.60153876 0.56613396 0.59376689]\n",
            "*********************************************************************\n",
            "\n"
          ]
        }
      ],
      "source": [
        "label_scaling = Pipeline([\n",
        "    (\"label_encode\", OrdinalEncoder()),\n",
        "    (\"scale\", MaxAbsScaler())\n",
        "])\n",
        "\n",
        "transform = ColumnTransformer([\n",
        "    (\"label\", label_scaling, [\"EdLevel\", \"Country\", \"Age\"]),\n",
        "    (\"onehot\", OneHotEncoder(sparse=False, handle_unknown=\"ignore\"), [\"RemoteWork\"]),\n",
        "    (\"scaler\", MaxAbsScaler(), [\"YearsCodePro\"])\n",
        "], remainder=\"passthrough\")\n",
        "\n",
        "model = RandomForestRegressor(n_estimators=200, n_jobs=2, random_state=42)\n",
        "\n",
        "pipe = Pipeline([\n",
        "    (\"preprocess\", transform),\n",
        "    (\"model\", model)\n",
        "])\n",
        "\n",
        "kfold = KFold(n_splits=5, shuffle=True, random_state=42)\n",
        "\n",
        "scores = cross_validate(pipe, X_train, y_train, cv=kfold, scoring=scoring, n_jobs=2, return_estimator=True)\n",
        "print(f\"RMSE: mean: {-1 * np.mean(scores['test_neg_root_mean_squared_error'])} | {-1 * scores['test_neg_root_mean_squared_error']}\")\n",
        "print(f\"MAE: mean: {-1 * np.mean(scores['test_neg_mean_absolute_error'])} | {-1 * scores['test_neg_mean_absolute_error']}\")\n",
        "print(f\"R2-score: mean: {np.mean(scores['test_r2'])} | {scores['test_r2']}\")\n",
        "print(\"*\" * 69)\n",
        "print()"
      ]
    },
    {
      "cell_type": "code",
      "source": [
        "label_scaling = Pipeline([\n",
        "    (\"label_encode\", OrdinalEncoder()),\n",
        "    (\"scale\", MaxAbsScaler())\n",
        "])\n",
        "\n",
        "transform = ColumnTransformer([\n",
        "    (\"label\", label_scaling, [\"EdLevel\", \"Country\", \"Age\"]),\n",
        "    (\"onehot\", OneHotEncoder(sparse=False, handle_unknown=\"ignore\"), [\"RemoteWork\"]),\n",
        "    (\"scaler\", MaxAbsScaler(), [\"YearsCodePro\"])\n",
        "], remainder=\"passthrough\")\n",
        "\n",
        "model = RandomForestRegressor(random_state=42)\n",
        "params = {\n",
        "    \"n_estimators\": [*range(200, 560, 50)]\n",
        "}\n",
        "\n",
        "grid = GridSearchCV(estimator=model, param_grid=params, scoring=scoring, n_jobs=-1, verbose=3, cv=5, refit=\"r2\")\n",
        "\n",
        "pipe = Pipeline([\n",
        "    (\"preprocess\", transform),\n",
        "    (\"grid\", grid)\n",
        "])\n",
        "\n",
        "pipe.fit(X_train, y_train)\n",
        "print(f\"The best params: {pipe['grid'].best_params_}\")\n",
        "print(f\"The best score: {pipe['grid'].best_score_}\")"
      ],
      "metadata": {
        "colab": {
          "base_uri": "https://localhost:8080/"
        },
        "id": "fV8e4HGbGeC7",
        "outputId": "663a1ca2-cefb-443a-ca0f-2810a2f86d5e"
      },
      "execution_count": 22,
      "outputs": [
        {
          "output_type": "stream",
          "name": "stdout",
          "text": [
            "Fitting 5 folds for each of 8 candidates, totalling 40 fits\n"
          ]
        },
        {
          "output_type": "stream",
          "name": "stderr",
          "text": [
            "/usr/local/lib/python3.8/dist-packages/joblib/externals/loky/process_executor.py:700: UserWarning: A worker stopped while some jobs were given to the executor. This can be caused by a too short worker timeout or by a memory leak.\n",
            "  warnings.warn(\n"
          ]
        },
        {
          "output_type": "stream",
          "name": "stdout",
          "text": [
            "The best params: {'n_estimators': 550}\n",
            "The best score: 0.5904647851473251\n"
          ]
        }
      ]
    },
    {
      "cell_type": "markdown",
      "metadata": {
        "id": "cbApW7W35eZB"
      },
      "source": [
        "# **Gradient Boost**"
      ]
    },
    {
      "cell_type": "code",
      "execution_count": null,
      "metadata": {
        "id": "GGjZjDNA5eZB",
        "outputId": "450e1d5d-2d8b-4ab9-ced1-034d4c17ea57"
      },
      "outputs": [
        {
          "name": "stdout",
          "output_type": "stream",
          "text": [
            "RMSE: mean: 37730.7612213689 | [36736.50299898 37845.68564879 37482.05424689 39532.57814741\n",
            " 37056.98506477]\n",
            "MAE: mean: 26009.150920067732 | [25515.908245   26423.78759751 25698.72456364 26827.23175549\n",
            " 25580.10243871]\n",
            "R2-score: mean: 0.614245085231671 | [0.62474069 0.61661625 0.62152095 0.58376976 0.62457778]\n",
            "*********************************************************************\n",
            "\n"
          ]
        }
      ],
      "source": [
        "transform = ColumnTransformer([\n",
        "    (\"label\", OrdinalEncoder(), [\"EdLevel\", \"Country\", \"Age\"]),\n",
        "    (\"onehot\", OneHotEncoder(sparse=False, handle_unknown=\"ignore\"), [\"RemoteWork\"]),\n",
        "    (\"scaler\", MaxAbsScaler(), [\"YearsCodePro\"])\n",
        "], remainder=\"passthrough\")\n",
        "\n",
        "model = GradientBoostingRegressor(n_estimators=200)\n",
        "\n",
        "pipe = Pipeline([\n",
        "    (\"preprocess\", transform),\n",
        "    (\"model\", model)\n",
        "])\n",
        "\n",
        "kfold = KFold(n_splits=5, shuffle=True, random_state=42)\n",
        "\n",
        "scores = cross_validate(pipe, X_train, y_train, cv=kfold, scoring=scoring, n_jobs=2)\n",
        "print(f\"RMSE: mean: {-1 * np.mean(scores['test_neg_root_mean_squared_error'])} | {-1 * scores['test_neg_root_mean_squared_error']}\")\n",
        "print(f\"MAE: mean: {-1 * np.mean(scores['test_neg_mean_absolute_error'])} | {-1 * scores['test_neg_mean_absolute_error']}\")\n",
        "print(f\"R2-score: mean: {np.mean(scores['test_r2'])} | {scores['test_r2']}\")\n",
        "print(\"*\" * 69)\n",
        "print()"
      ]
    },
    {
      "cell_type": "code",
      "source": [
        "transform = ColumnTransformer([\n",
        "    (\"label\", OrdinalEncoder(), [\"EdLevel\", \"Country\", \"Age\"]),\n",
        "    (\"onehot\", OneHotEncoder(sparse=False, handle_unknown=\"ignore\"), [\"RemoteWork\"]),\n",
        "    (\"scaler\", MaxAbsScaler(), [\"YearsCodePro\"])\n",
        "], remainder=\"passthrough\")\n",
        "\n",
        "model = GradientBoostingRegressor(n_estimators=200)\n",
        "\n",
        "params = {\n",
        "    \"n_estimators\": [*range(200, 560, 50)]\n",
        "}\n",
        "\n",
        "grid = GridSearchCV(estimator=model, param_grid=params, scoring=scoring, n_jobs=3, verbose=3, cv=5, refit=\"r2\")\n",
        "\n",
        "pipe = Pipeline([\n",
        "    (\"preprocess\", transform),\n",
        "    (\"grid\", grid)\n",
        "])\n",
        "\n",
        "pipe.fit(X_train, y_train)\n",
        "print(f\"The best params: {pipe['grid'].best_params_}\")\n",
        "print(f\"The best score: {pipe['grid'].best_score_}\")"
      ],
      "metadata": {
        "colab": {
          "base_uri": "https://localhost:8080/"
        },
        "id": "Kmx33Ws7HOhr",
        "outputId": "579fd196-bf34-4dfa-e498-5363b5c6d3cf"
      },
      "execution_count": 23,
      "outputs": [
        {
          "output_type": "stream",
          "name": "stdout",
          "text": [
            "Fitting 5 folds for each of 8 candidates, totalling 40 fits\n",
            "The best params: {'n_estimators': 450}\n",
            "The best score: 0.6162582664420287\n"
          ]
        }
      ]
    },
    {
      "cell_type": "code",
      "execution_count": null,
      "metadata": {
        "id": "1epLQ9O35eZB",
        "outputId": "d3a9eadd-d939-463e-e430-177abd44dee3"
      },
      "outputs": [
        {
          "name": "stdout",
          "output_type": "stream",
          "text": [
            "RMSE: mean: 37731.81278252379 | [36737.15440576 37845.68564879 37482.05424689 39532.92471638\n",
            " 37061.24489479]\n",
            "MAE: mean: 26010.10769767022 | [25515.908245   26423.78759751 25698.72456364 26828.53321816\n",
            " 25583.58486405]\n",
            "R2-score: mean: 0.6142237005706326 | [0.62472738 0.61661625 0.62152095 0.58376246 0.62449146]\n",
            "*********************************************************************\n",
            "\n"
          ]
        }
      ],
      "source": [
        "label_scaling = Pipeline([\n",
        "    (\"label_encode\", OrdinalEncoder()),\n",
        "    (\"scale\", MaxAbsScaler())\n",
        "])\n",
        "\n",
        "transform = ColumnTransformer([\n",
        "    (\"label\", label_scaling, [\"EdLevel\", \"Country\", \"Age\"]),\n",
        "    (\"onehot\", OneHotEncoder(sparse=False, handle_unknown=\"ignore\"), [\"RemoteWork\"]),\n",
        "    (\"scaler\", MaxAbsScaler(), [\"YearsCodePro\"])\n",
        "], remainder=\"passthrough\")\n",
        "\n",
        "model = GradientBoostingRegressor(n_estimators=200)\n",
        "\n",
        "pipe = Pipeline([\n",
        "    (\"preprocess\", transform),\n",
        "    (\"model\", model)\n",
        "])\n",
        "\n",
        "kfold = KFold(n_splits=5, shuffle=True, random_state=42)\n",
        "\n",
        "scores = cross_validate(pipe, X_train, y_train, cv=kfold, scoring=scoring, n_jobs=2, return_estimator=True)\n",
        "print(f\"RMSE: mean: {-1 * np.mean(scores['test_neg_root_mean_squared_error'])} | {-1 * scores['test_neg_root_mean_squared_error']}\")\n",
        "print(f\"MAE: mean: {-1 * np.mean(scores['test_neg_mean_absolute_error'])} | {-1 * scores['test_neg_mean_absolute_error']}\")\n",
        "print(f\"R2-score: mean: {np.mean(scores['test_r2'])} | {scores['test_r2']}\")\n",
        "print(\"*\" * 69)\n",
        "print()"
      ]
    },
    {
      "cell_type": "code",
      "source": [
        "label_scaling = Pipeline([\n",
        "    (\"label_encode\", OrdinalEncoder()),\n",
        "    (\"scale\", MaxAbsScaler())\n",
        "])\n",
        "\n",
        "transform = ColumnTransformer([\n",
        "    (\"label\", label_scaling, [\"EdLevel\", \"Country\", \"Age\"]),\n",
        "    (\"onehot\", OneHotEncoder(sparse=False, handle_unknown=\"ignore\"), [\"RemoteWork\"]),\n",
        "    (\"scaler\", MaxAbsScaler(), [\"YearsCodePro\"])\n",
        "], remainder=\"passthrough\")\n",
        "\n",
        "model = GradientBoostingRegressor(n_estimators=200)\n",
        "params = {\n",
        "    \"n_estimators\": [*range(200, 560, 50)]\n",
        "}\n",
        "\n",
        "grid = GridSearchCV(estimator=model, param_grid=params, scoring=scoring, n_jobs=-1, verbose=3, cv=5, refit=\"r2\")\n",
        "\n",
        "pipe = Pipeline([\n",
        "    (\"preprocess\", transform),\n",
        "    (\"grid\", grid)\n",
        "])\n",
        "\n",
        "pipe.fit(X_train, y_train)\n",
        "print(f\"The best params: {pipe['grid'].best_params_}\")\n",
        "print(f\"The best score: {pipe['grid'].best_score_}\")"
      ],
      "metadata": {
        "colab": {
          "base_uri": "https://localhost:8080/"
        },
        "id": "1DOdUQluHVCt",
        "outputId": "4ebbde58-f8ba-4b69-f1d0-9494536ca57a"
      },
      "execution_count": 24,
      "outputs": [
        {
          "output_type": "stream",
          "name": "stdout",
          "text": [
            "Fitting 5 folds for each of 8 candidates, totalling 40 fits\n",
            "The best params: {'n_estimators': 400}\n",
            "The best score: 0.6162278340397567\n"
          ]
        }
      ]
    },
    {
      "cell_type": "code",
      "execution_count": null,
      "metadata": {
        "id": "AFWL_y_k5eZC"
      },
      "outputs": [],
      "source": [
        " "
      ]
    }
  ],
  "metadata": {
    "kernelspec": {
      "display_name": "Python 3.10.6 ('base')",
      "language": "python",
      "name": "python3"
    },
    "language_info": {
      "codemirror_mode": {
        "name": "ipython",
        "version": 3
      },
      "file_extension": ".py",
      "mimetype": "text/x-python",
      "name": "python",
      "nbconvert_exporter": "python",
      "pygments_lexer": "ipython3",
      "version": "3.10.6"
    },
    "orig_nbformat": 4,
    "vscode": {
      "interpreter": {
        "hash": "c6e4e9f98eb68ad3b7c296f83d20e6de614cb42e90992a65aa266555a3137d0d"
      }
    },
    "colab": {
      "provenance": [],
      "collapsed_sections": [
        "ix3gzyvnFdvw",
        "mc96tSBE5eY7",
        "OwTsaKc_5eY9"
      ]
    }
  },
  "nbformat": 4,
  "nbformat_minor": 0
}